{
 "cells": [
  {
   "cell_type": "markdown",
   "metadata": {},
   "source": [
    "# Projeto #2 - Classificador supervisionado\n",
    "\n",
    "Antes de começar, leia as [Instruções](https://github.com/thvmm/pos-ds-ia/tree/master/projeto_2#instru%C3%A7%C3%B5es) e os [Critérios de Avaliação](https://github.com/thvmm/pos-ds-ia/tree/master/projeto_2#crit%C3%A9rios-de-avalia%C3%A7%C3%A3o)\n"
   ]
  },
  {
   "cell_type": "markdown",
   "metadata": {},
   "source": [
    "### 1) Qual a base escolhida?"
   ]
  },
  {
   "cell_type": "code",
   "execution_count": 322,
   "metadata": {},
   "outputs": [
    {
     "ename": "SyntaxError",
     "evalue": "invalid syntax (<ipython-input-322-fcb1a410af2a>, line 1)",
     "output_type": "error",
     "traceback": [
      "\u001b[1;36m  File \u001b[1;32m\"<ipython-input-322-fcb1a410af2a>\"\u001b[1;36m, line \u001b[1;32m1\u001b[0m\n\u001b[1;33m    Forest covertypes\u001b[0m\n\u001b[1;37m                    ^\u001b[0m\n\u001b[1;31mSyntaxError\u001b[0m\u001b[1;31m:\u001b[0m invalid syntax\n"
     ]
    }
   ],
   "source": [
    "Forest covertypes"
   ]
  },
  {
   "cell_type": "markdown",
   "metadata": {},
   "source": [
    "### 2) **(10%)** Pré-processamento: entendimento do conjunto de dados\n",
    "- Quais são minhas features?\n",
    "- Quais são minhas classes?\n",
    "- Como estão distribuidas minhas classes?\n",
    "- Checagem se os valores estão dentro de um limite permitido ou razoável.\n",
    "- Tratamento de valores ausentes por eliminação ou substituição.\n",
    "- Conversão do tipo de dados."
   ]
  },
  {
   "cell_type": "code",
   "execution_count": null,
   "metadata": {},
   "outputs": [],
   "source": [
    "import pandas as pd  \n",
    "import numpy as np  \n",
    "import matplotlib.pyplot as plt  \n",
    "import seaborn as seabornInstance\n",
    "from sklearn.model_selection import train_test_split\n",
    "from sklearn.linear_model import LinearRegression\n",
    "from sklearn import metrics\n",
    "from sklearn import tree\n",
    "from sklearn import preprocessing\n",
    "import time\n",
    "import sklearn\n",
    "from collections import Counter\n",
    "from sklearn.model_selection import cross_val_score\n",
    "%matplotlib inline"
   ]
  },
  {
   "cell_type": "code",
   "execution_count": null,
   "metadata": {},
   "outputs": [],
   "source": [
    "data = pd.read_table(r'C:\\Users\\braga\\Google Drive\\Trabalho2\\covtype.data',sep=',',header=None)"
   ]
  },
  {
   "cell_type": "code",
   "execution_count": 323,
   "metadata": {},
   "outputs": [
    {
     "data": {
      "text/plain": [
       "(581012, 55)"
      ]
     },
     "execution_count": 323,
     "metadata": {},
     "output_type": "execute_result"
    }
   ],
   "source": [
    "data.columns = ['Elevation','Aspect','Slope','Horizontal_Distance_To_Hydrology','Vertical_Distance_To_Hydrology','Horizontal_Distance_To_Roadways','Hillshade_9am','Hillshade_Noon','Hillshade_3pm','Horizontal_Distance_To_Fire_Points','Wilderness_Area_1','Wilderness_Area_2','Wilderness_Area_3','Wilderness_Area_4','Soil_Type_1','Soil_Type_2','Soil_Type_3','Soil_Type_4','Soil_Type_5','Soil_Type_6','Soil_Type_7','Soil_Type_8','Soil_Type_9','Soil_Type_10','Soil_Type_11','Soil_Type_12','Soil_Type_13','Soil_Type_14','Soil_Type_15','Soil_Type_16','Soil_Type_17','Soil_Type_18','Soil_Type_19','Soil_Type_20','Soil_Type_21','Soil_Type_22','Soil_Type_23','Soil_Type_24','Soil_Type_25','Soil_Type_26','Soil_Type_27','Soil_Type_28','Soil_Type_29','Soil_Type_30','Soil_Type_31','Soil_Type_32','Soil_Type_33','Soil_Type_34','Soil_Type_35','Soil_Type_36','Soil_Type_37','Soil_Type_38','Soil_Type_39','Soil_Type_40','Cover_Type']\n",
    "data.shape\n",
    "#Temos um total de 581012 linhas com 55 colunas."
   ]
  },
  {
   "cell_type": "code",
   "execution_count": 324,
   "metadata": {},
   "outputs": [
    {
     "data": {
      "text/plain": [
       "Index(['Elevation', 'Aspect', 'Slope', 'Horizontal_Distance_To_Hydrology',\n",
       "       'Vertical_Distance_To_Hydrology', 'Horizontal_Distance_To_Roadways',\n",
       "       'Hillshade_9am', 'Hillshade_Noon', 'Hillshade_3pm',\n",
       "       'Horizontal_Distance_To_Fire_Points', 'Wilderness_Area_1',\n",
       "       'Wilderness_Area_2', 'Wilderness_Area_3', 'Wilderness_Area_4',\n",
       "       'Soil_Type_1', 'Soil_Type_2', 'Soil_Type_3', 'Soil_Type_4',\n",
       "       'Soil_Type_5', 'Soil_Type_6', 'Soil_Type_7', 'Soil_Type_8',\n",
       "       'Soil_Type_9', 'Soil_Type_10', 'Soil_Type_11', 'Soil_Type_12',\n",
       "       'Soil_Type_13', 'Soil_Type_14', 'Soil_Type_15', 'Soil_Type_16',\n",
       "       'Soil_Type_17', 'Soil_Type_18', 'Soil_Type_19', 'Soil_Type_20',\n",
       "       'Soil_Type_21', 'Soil_Type_22', 'Soil_Type_23', 'Soil_Type_24',\n",
       "       'Soil_Type_25', 'Soil_Type_26', 'Soil_Type_27', 'Soil_Type_28',\n",
       "       'Soil_Type_29', 'Soil_Type_30', 'Soil_Type_31', 'Soil_Type_32',\n",
       "       'Soil_Type_33', 'Soil_Type_34', 'Soil_Type_35', 'Soil_Type_36',\n",
       "       'Soil_Type_37', 'Soil_Type_38', 'Soil_Type_39', 'Soil_Type_40',\n",
       "       'Cover_Type'],\n",
       "      dtype='object')"
      ]
     },
     "execution_count": 324,
     "metadata": {},
     "output_type": "execute_result"
    }
   ],
   "source": [
    "data.columns"
   ]
  },
  {
   "cell_type": "markdown",
   "metadata": {},
   "source": [
    "Dentro do Data Frame temos as colunas(features):\n",
    "Elevation:                          Elevação em metros\n",
    "Aspect:                             Aspecto em graus azimute\n",
    "Slope:                              Inclinação em graus\n",
    "Horizontal_Distance_To_Hydrology:   Distância horizontal ate a superficie de água mais próximas em metros\n",
    "Vertical_Distance_To_Hydrology:     Distância vertical ate a superficie de água mais próximas em metros\n",
    "Horizontal_Distance_To_Roadways:    Distância horizontal até a estrada mais próxima em metros\n",
    "Hillshade_9am                       Índice Hillshade para formação de mapa topográfico via luz e sombra\n",
    "Hillshade_Noon                      Índice Hillshade para formação de mapa topográfico via luz e sombra\n",
    "Hillshade_3pm                       Índice Hillshade para formação de mapa topográfico via luz e sombra\n",
    "*How Hillshade works:               https://desktop.arcgis.com/en/arcmap/10.3/tools/spatial-analyst-toolbox/how-hillshade-works.htm\n",
    "Horizontal_Distance_To_Fire_Points: Distância horizontal até os focos de incêndio mais próximos em metros\n",
    "Wilderness_Area 1 ate 4:            Tipos de áreas selvagens (binário)\n",
    "Soil_Type 1 ate 40:                 Tipos de solos (binário)\n",
    "Cover_Type:                         Tipo de floresta do local, vai de 1 a 7 (classes)\n",
    "** Informações dos binários e classes estão abaixo"
   ]
  },
  {
   "cell_type": "code",
   "execution_count": 325,
   "metadata": {},
   "outputs": [
    {
     "data": {
      "text/html": [
       "<div>\n",
       "<style scoped>\n",
       "    .dataframe tbody tr th:only-of-type {\n",
       "        vertical-align: middle;\n",
       "    }\n",
       "\n",
       "    .dataframe tbody tr th {\n",
       "        vertical-align: top;\n",
       "    }\n",
       "\n",
       "    .dataframe thead th {\n",
       "        text-align: right;\n",
       "    }\n",
       "</style>\n",
       "<table border=\"1\" class=\"dataframe\">\n",
       "  <thead>\n",
       "    <tr style=\"text-align: right;\">\n",
       "      <th></th>\n",
       "      <th>Type</th>\n",
       "      <th>Name</th>\n",
       "    </tr>\n",
       "  </thead>\n",
       "  <tbody>\n",
       "    <tr>\n",
       "      <th>0</th>\n",
       "      <td>1</td>\n",
       "      <td>Rawah Wilderness Area</td>\n",
       "    </tr>\n",
       "    <tr>\n",
       "      <th>1</th>\n",
       "      <td>2</td>\n",
       "      <td>Neota Wilderness Area</td>\n",
       "    </tr>\n",
       "    <tr>\n",
       "      <th>2</th>\n",
       "      <td>3</td>\n",
       "      <td>Comanche Peak Wilderness Area</td>\n",
       "    </tr>\n",
       "    <tr>\n",
       "      <th>3</th>\n",
       "      <td>4</td>\n",
       "      <td>Cache la Poudre Wilderness Area</td>\n",
       "    </tr>\n",
       "  </tbody>\n",
       "</table>\n",
       "</div>"
      ],
      "text/plain": [
       "   Type                             Name\n",
       "0     1            Rawah Wilderness Area\n",
       "1     2            Neota Wilderness Area\n",
       "2     3    Comanche Peak Wilderness Area\n",
       "3     4  Cache la Poudre Wilderness Area"
      ]
     },
     "execution_count": 325,
     "metadata": {},
     "output_type": "execute_result"
    }
   ],
   "source": [
    "Wilderness_Area = {'Type':[1,2,3,4],'Name':['Rawah Wilderness Area','Neota Wilderness Area','Comanche Peak Wilderness Area','Cache la Poudre Wilderness Area']}\n",
    "Wilderness_Area = pd.DataFrame(Wilderness_Area)\n",
    "Wilderness_Area"
   ]
  },
  {
   "cell_type": "code",
   "execution_count": 326,
   "metadata": {},
   "outputs": [
    {
     "data": {
      "text/html": [
       "<div>\n",
       "<style scoped>\n",
       "    .dataframe tbody tr th:only-of-type {\n",
       "        vertical-align: middle;\n",
       "    }\n",
       "\n",
       "    .dataframe tbody tr th {\n",
       "        vertical-align: top;\n",
       "    }\n",
       "\n",
       "    .dataframe thead th {\n",
       "        text-align: right;\n",
       "    }\n",
       "</style>\n",
       "<table border=\"1\" class=\"dataframe\">\n",
       "  <thead>\n",
       "    <tr style=\"text-align: right;\">\n",
       "      <th></th>\n",
       "      <th>Type</th>\n",
       "      <th>Description</th>\n",
       "      <th>Climatic_Zone_Code</th>\n",
       "      <th>Climatic_Zone_Description</th>\n",
       "      <th>Geologic_Zone_Code</th>\n",
       "      <th>Geologic_Zone_Description</th>\n",
       "    </tr>\n",
       "  </thead>\n",
       "  <tbody>\n",
       "    <tr>\n",
       "      <th>0</th>\n",
       "      <td>1</td>\n",
       "      <td>Cathedral family - Rock outcrop complex, extre...</td>\n",
       "      <td>2</td>\n",
       "      <td>lowermontane</td>\n",
       "      <td>7</td>\n",
       "      <td>igneousandmetamorphic</td>\n",
       "    </tr>\n",
       "    <tr>\n",
       "      <th>1</th>\n",
       "      <td>2</td>\n",
       "      <td>Vanet - Ratake families complex, very stony</td>\n",
       "      <td>2</td>\n",
       "      <td>lowermontane</td>\n",
       "      <td>7</td>\n",
       "      <td>igneousandmetamorphic</td>\n",
       "    </tr>\n",
       "    <tr>\n",
       "      <th>2</th>\n",
       "      <td>3</td>\n",
       "      <td>Haploborolis - Rock outcrop complex, rubbly</td>\n",
       "      <td>2</td>\n",
       "      <td>lowermontane</td>\n",
       "      <td>7</td>\n",
       "      <td>igneousandmetamorphic</td>\n",
       "    </tr>\n",
       "    <tr>\n",
       "      <th>3</th>\n",
       "      <td>4</td>\n",
       "      <td>Ratake family - Rock outcrop complex, rubbly</td>\n",
       "      <td>2</td>\n",
       "      <td>lowermontane</td>\n",
       "      <td>7</td>\n",
       "      <td>igneousandmetamorphic</td>\n",
       "    </tr>\n",
       "    <tr>\n",
       "      <th>4</th>\n",
       "      <td>5</td>\n",
       "      <td>Vanet family - Rock outcrop complex complex, r...</td>\n",
       "      <td>2</td>\n",
       "      <td>lowermontane</td>\n",
       "      <td>7</td>\n",
       "      <td>igneousandmetamorphic</td>\n",
       "    </tr>\n",
       "    <tr>\n",
       "      <th>5</th>\n",
       "      <td>6</td>\n",
       "      <td>Vanet - Wetmore families - Rock outcrop comple...</td>\n",
       "      <td>2</td>\n",
       "      <td>lowermontane</td>\n",
       "      <td>7</td>\n",
       "      <td>igneousandmetamorphic</td>\n",
       "    </tr>\n",
       "    <tr>\n",
       "      <th>6</th>\n",
       "      <td>7</td>\n",
       "      <td>Gothic family</td>\n",
       "      <td>3</td>\n",
       "      <td>montanedry</td>\n",
       "      <td>5</td>\n",
       "      <td>mixedsedimentary</td>\n",
       "    </tr>\n",
       "    <tr>\n",
       "      <th>7</th>\n",
       "      <td>8</td>\n",
       "      <td>Supervisor - Limber families complex</td>\n",
       "      <td>3</td>\n",
       "      <td>montanedry</td>\n",
       "      <td>5</td>\n",
       "      <td>mixedsedimentary</td>\n",
       "    </tr>\n",
       "    <tr>\n",
       "      <th>8</th>\n",
       "      <td>9</td>\n",
       "      <td>Troutville family, very stony</td>\n",
       "      <td>4</td>\n",
       "      <td>montane</td>\n",
       "      <td>2</td>\n",
       "      <td>glacial</td>\n",
       "    </tr>\n",
       "    <tr>\n",
       "      <th>9</th>\n",
       "      <td>10</td>\n",
       "      <td>Bullwark - Catamount families - Rock outcrop c...</td>\n",
       "      <td>4</td>\n",
       "      <td>montane</td>\n",
       "      <td>7</td>\n",
       "      <td>igneousandmetamorphic</td>\n",
       "    </tr>\n",
       "    <tr>\n",
       "      <th>10</th>\n",
       "      <td>11</td>\n",
       "      <td>Bullwark - Catamount families - Rock land comp...</td>\n",
       "      <td>4</td>\n",
       "      <td>montane</td>\n",
       "      <td>7</td>\n",
       "      <td>igneousandmetamorphic</td>\n",
       "    </tr>\n",
       "    <tr>\n",
       "      <th>11</th>\n",
       "      <td>12</td>\n",
       "      <td>Legault family - Rock land complex, stony</td>\n",
       "      <td>4</td>\n",
       "      <td>montane</td>\n",
       "      <td>7</td>\n",
       "      <td>igneousandmetamorphic</td>\n",
       "    </tr>\n",
       "    <tr>\n",
       "      <th>12</th>\n",
       "      <td>13</td>\n",
       "      <td>Catamount family - Rock land - Bullwark family...</td>\n",
       "      <td>4</td>\n",
       "      <td>montane</td>\n",
       "      <td>7</td>\n",
       "      <td>igneousandmetamorphic</td>\n",
       "    </tr>\n",
       "    <tr>\n",
       "      <th>13</th>\n",
       "      <td>14</td>\n",
       "      <td>Pachic Argiborolis - Aquolis complex</td>\n",
       "      <td>5</td>\n",
       "      <td>montanedryandmontane</td>\n",
       "      <td>1</td>\n",
       "      <td>alluvium</td>\n",
       "    </tr>\n",
       "    <tr>\n",
       "      <th>14</th>\n",
       "      <td>15</td>\n",
       "      <td>Unspecified in the USFS Soil and ELU Survey</td>\n",
       "      <td>5</td>\n",
       "      <td>montanedryandmontane</td>\n",
       "      <td>1</td>\n",
       "      <td>alluvium</td>\n",
       "    </tr>\n",
       "    <tr>\n",
       "      <th>15</th>\n",
       "      <td>16</td>\n",
       "      <td>Cryaquolis - Cryoborolis complex</td>\n",
       "      <td>6</td>\n",
       "      <td>montaneandsubalpine</td>\n",
       "      <td>1</td>\n",
       "      <td>alluvium</td>\n",
       "    </tr>\n",
       "    <tr>\n",
       "      <th>16</th>\n",
       "      <td>17</td>\n",
       "      <td>Gateview family - Cryaquolis complex</td>\n",
       "      <td>6</td>\n",
       "      <td>montaneandsubalpine</td>\n",
       "      <td>1</td>\n",
       "      <td>alluvium</td>\n",
       "    </tr>\n",
       "    <tr>\n",
       "      <th>17</th>\n",
       "      <td>18</td>\n",
       "      <td>Rogert family, very stony</td>\n",
       "      <td>6</td>\n",
       "      <td>montaneandsubalpine</td>\n",
       "      <td>7</td>\n",
       "      <td>igneousandmetamorphic</td>\n",
       "    </tr>\n",
       "    <tr>\n",
       "      <th>18</th>\n",
       "      <td>19</td>\n",
       "      <td>Typic Cryaquolis - Borohemists complex</td>\n",
       "      <td>7</td>\n",
       "      <td>subalpine</td>\n",
       "      <td>1</td>\n",
       "      <td>alluvium</td>\n",
       "    </tr>\n",
       "    <tr>\n",
       "      <th>19</th>\n",
       "      <td>20</td>\n",
       "      <td>Typic Cryaquepts - Typic Cryaquolls complex</td>\n",
       "      <td>7</td>\n",
       "      <td>subalpine</td>\n",
       "      <td>1</td>\n",
       "      <td>alluvium</td>\n",
       "    </tr>\n",
       "    <tr>\n",
       "      <th>20</th>\n",
       "      <td>21</td>\n",
       "      <td>Typic Cryaquolls - Leighcan family, till subst...</td>\n",
       "      <td>7</td>\n",
       "      <td>subalpine</td>\n",
       "      <td>1</td>\n",
       "      <td>alluvium</td>\n",
       "    </tr>\n",
       "    <tr>\n",
       "      <th>21</th>\n",
       "      <td>22</td>\n",
       "      <td>Leighcan family, till substratum, extremely bo...</td>\n",
       "      <td>7</td>\n",
       "      <td>subalpine</td>\n",
       "      <td>2</td>\n",
       "      <td>glacial</td>\n",
       "    </tr>\n",
       "    <tr>\n",
       "      <th>22</th>\n",
       "      <td>23</td>\n",
       "      <td>Leighcan family, till substratum - Typic Cryaq...</td>\n",
       "      <td>7</td>\n",
       "      <td>subalpine</td>\n",
       "      <td>2</td>\n",
       "      <td>glacial</td>\n",
       "    </tr>\n",
       "    <tr>\n",
       "      <th>23</th>\n",
       "      <td>24</td>\n",
       "      <td>Leighcan family, extremely stony</td>\n",
       "      <td>7</td>\n",
       "      <td>subalpine</td>\n",
       "      <td>7</td>\n",
       "      <td>igneousandmetamorphic</td>\n",
       "    </tr>\n",
       "    <tr>\n",
       "      <th>24</th>\n",
       "      <td>25</td>\n",
       "      <td>Leighcan family, warm, extremely stony</td>\n",
       "      <td>7</td>\n",
       "      <td>subalpine</td>\n",
       "      <td>7</td>\n",
       "      <td>igneousandmetamorphic</td>\n",
       "    </tr>\n",
       "    <tr>\n",
       "      <th>25</th>\n",
       "      <td>26</td>\n",
       "      <td>Granile - Catamount families complex, very stony</td>\n",
       "      <td>7</td>\n",
       "      <td>subalpine</td>\n",
       "      <td>7</td>\n",
       "      <td>igneousandmetamorphic</td>\n",
       "    </tr>\n",
       "    <tr>\n",
       "      <th>26</th>\n",
       "      <td>27</td>\n",
       "      <td>Leighcan family, warm - Rock outcrop complex, ...</td>\n",
       "      <td>7</td>\n",
       "      <td>subalpine</td>\n",
       "      <td>7</td>\n",
       "      <td>igneousandmetamorphic</td>\n",
       "    </tr>\n",
       "    <tr>\n",
       "      <th>27</th>\n",
       "      <td>28</td>\n",
       "      <td>Leighcan family - Rock outcrop complex, extrem...</td>\n",
       "      <td>7</td>\n",
       "      <td>subalpine</td>\n",
       "      <td>7</td>\n",
       "      <td>igneousandmetamorphic</td>\n",
       "    </tr>\n",
       "    <tr>\n",
       "      <th>28</th>\n",
       "      <td>29</td>\n",
       "      <td>Como - Legault families complex, extremely stony</td>\n",
       "      <td>7</td>\n",
       "      <td>subalpine</td>\n",
       "      <td>7</td>\n",
       "      <td>igneousandmetamorphic</td>\n",
       "    </tr>\n",
       "    <tr>\n",
       "      <th>29</th>\n",
       "      <td>30</td>\n",
       "      <td>Como family - Rock land - Legault family compl...</td>\n",
       "      <td>7</td>\n",
       "      <td>subalpine</td>\n",
       "      <td>7</td>\n",
       "      <td>igneousandmetamorphic</td>\n",
       "    </tr>\n",
       "    <tr>\n",
       "      <th>30</th>\n",
       "      <td>31</td>\n",
       "      <td>Leighcan - Catamount families complex, extreme...</td>\n",
       "      <td>7</td>\n",
       "      <td>subalpine</td>\n",
       "      <td>7</td>\n",
       "      <td>igneousandmetamorphic</td>\n",
       "    </tr>\n",
       "    <tr>\n",
       "      <th>31</th>\n",
       "      <td>32</td>\n",
       "      <td>Catamount family - Rock outcrop - Leighcan fam...</td>\n",
       "      <td>7</td>\n",
       "      <td>subalpine</td>\n",
       "      <td>7</td>\n",
       "      <td>igneousandmetamorphic</td>\n",
       "    </tr>\n",
       "    <tr>\n",
       "      <th>32</th>\n",
       "      <td>33</td>\n",
       "      <td>Leighcan - Catamount families - Rock outcrop c...</td>\n",
       "      <td>7</td>\n",
       "      <td>subalpine</td>\n",
       "      <td>7</td>\n",
       "      <td>igneousandmetamorphic</td>\n",
       "    </tr>\n",
       "    <tr>\n",
       "      <th>33</th>\n",
       "      <td>34</td>\n",
       "      <td>Cryorthents - Rock land complex, extremely stony</td>\n",
       "      <td>7</td>\n",
       "      <td>subalpine</td>\n",
       "      <td>7</td>\n",
       "      <td>igneousandmetamorphic</td>\n",
       "    </tr>\n",
       "    <tr>\n",
       "      <th>34</th>\n",
       "      <td>35</td>\n",
       "      <td>Cryumbrepts - Rock outcrop - Cryaquepts complex</td>\n",
       "      <td>8</td>\n",
       "      <td>alpine</td>\n",
       "      <td>7</td>\n",
       "      <td>igneousandmetamorphic</td>\n",
       "    </tr>\n",
       "    <tr>\n",
       "      <th>35</th>\n",
       "      <td>36</td>\n",
       "      <td>Bross family - Rock land - Cryumbrepts complex...</td>\n",
       "      <td>8</td>\n",
       "      <td>alpine</td>\n",
       "      <td>7</td>\n",
       "      <td>igneousandmetamorphic</td>\n",
       "    </tr>\n",
       "    <tr>\n",
       "      <th>36</th>\n",
       "      <td>37</td>\n",
       "      <td>Rock outcrop - Cryumbrepts - Cryorthents compl...</td>\n",
       "      <td>8</td>\n",
       "      <td>alpine</td>\n",
       "      <td>7</td>\n",
       "      <td>igneousandmetamorphic</td>\n",
       "    </tr>\n",
       "    <tr>\n",
       "      <th>37</th>\n",
       "      <td>38</td>\n",
       "      <td>Leighcan - Moran families - Cryaquolls complex...</td>\n",
       "      <td>8</td>\n",
       "      <td>alpine</td>\n",
       "      <td>7</td>\n",
       "      <td>igneousandmetamorphic</td>\n",
       "    </tr>\n",
       "    <tr>\n",
       "      <th>38</th>\n",
       "      <td>39</td>\n",
       "      <td>Moran family - Cryorthents - Leighcan family c...</td>\n",
       "      <td>8</td>\n",
       "      <td>alpine</td>\n",
       "      <td>7</td>\n",
       "      <td>igneousandmetamorphic</td>\n",
       "    </tr>\n",
       "    <tr>\n",
       "      <th>39</th>\n",
       "      <td>40</td>\n",
       "      <td>Moran family - Cryorthents - Rock land complex...</td>\n",
       "      <td>8</td>\n",
       "      <td>alpine</td>\n",
       "      <td>7</td>\n",
       "      <td>igneousandmetamorphic</td>\n",
       "    </tr>\n",
       "  </tbody>\n",
       "</table>\n",
       "</div>"
      ],
      "text/plain": [
       "    Type                                        Description  \\\n",
       "0      1  Cathedral family - Rock outcrop complex, extre...   \n",
       "1      2        Vanet - Ratake families complex, very stony   \n",
       "2      3        Haploborolis - Rock outcrop complex, rubbly   \n",
       "3      4       Ratake family - Rock outcrop complex, rubbly   \n",
       "4      5  Vanet family - Rock outcrop complex complex, r...   \n",
       "5      6  Vanet - Wetmore families - Rock outcrop comple...   \n",
       "6      7                                      Gothic family   \n",
       "7      8               Supervisor - Limber families complex   \n",
       "8      9                      Troutville family, very stony   \n",
       "9     10  Bullwark - Catamount families - Rock outcrop c...   \n",
       "10    11  Bullwark - Catamount families - Rock land comp...   \n",
       "11    12          Legault family - Rock land complex, stony   \n",
       "12    13  Catamount family - Rock land - Bullwark family...   \n",
       "13    14               Pachic Argiborolis - Aquolis complex   \n",
       "14    15        Unspecified in the USFS Soil and ELU Survey   \n",
       "15    16                   Cryaquolis - Cryoborolis complex   \n",
       "16    17               Gateview family - Cryaquolis complex   \n",
       "17    18                          Rogert family, very stony   \n",
       "18    19             Typic Cryaquolis - Borohemists complex   \n",
       "19    20        Typic Cryaquepts - Typic Cryaquolls complex   \n",
       "20    21  Typic Cryaquolls - Leighcan family, till subst...   \n",
       "21    22  Leighcan family, till substratum, extremely bo...   \n",
       "22    23  Leighcan family, till substratum - Typic Cryaq...   \n",
       "23    24                   Leighcan family, extremely stony   \n",
       "24    25             Leighcan family, warm, extremely stony   \n",
       "25    26   Granile - Catamount families complex, very stony   \n",
       "26    27  Leighcan family, warm - Rock outcrop complex, ...   \n",
       "27    28  Leighcan family - Rock outcrop complex, extrem...   \n",
       "28    29   Como - Legault families complex, extremely stony   \n",
       "29    30  Como family - Rock land - Legault family compl...   \n",
       "30    31  Leighcan - Catamount families complex, extreme...   \n",
       "31    32  Catamount family - Rock outcrop - Leighcan fam...   \n",
       "32    33  Leighcan - Catamount families - Rock outcrop c...   \n",
       "33    34   Cryorthents - Rock land complex, extremely stony   \n",
       "34    35    Cryumbrepts - Rock outcrop - Cryaquepts complex   \n",
       "35    36  Bross family - Rock land - Cryumbrepts complex...   \n",
       "36    37  Rock outcrop - Cryumbrepts - Cryorthents compl...   \n",
       "37    38  Leighcan - Moran families - Cryaquolls complex...   \n",
       "38    39  Moran family - Cryorthents - Leighcan family c...   \n",
       "39    40  Moran family - Cryorthents - Rock land complex...   \n",
       "\n",
       "    Climatic_Zone_Code Climatic_Zone_Description  Geologic_Zone_Code  \\\n",
       "0                    2              lowermontane                   7   \n",
       "1                    2              lowermontane                   7   \n",
       "2                    2              lowermontane                   7   \n",
       "3                    2              lowermontane                   7   \n",
       "4                    2              lowermontane                   7   \n",
       "5                    2              lowermontane                   7   \n",
       "6                    3                montanedry                   5   \n",
       "7                    3                montanedry                   5   \n",
       "8                    4                   montane                   2   \n",
       "9                    4                   montane                   7   \n",
       "10                   4                   montane                   7   \n",
       "11                   4                   montane                   7   \n",
       "12                   4                   montane                   7   \n",
       "13                   5      montanedryandmontane                   1   \n",
       "14                   5      montanedryandmontane                   1   \n",
       "15                   6       montaneandsubalpine                   1   \n",
       "16                   6       montaneandsubalpine                   1   \n",
       "17                   6       montaneandsubalpine                   7   \n",
       "18                   7                 subalpine                   1   \n",
       "19                   7                 subalpine                   1   \n",
       "20                   7                 subalpine                   1   \n",
       "21                   7                 subalpine                   2   \n",
       "22                   7                 subalpine                   2   \n",
       "23                   7                 subalpine                   7   \n",
       "24                   7                 subalpine                   7   \n",
       "25                   7                 subalpine                   7   \n",
       "26                   7                 subalpine                   7   \n",
       "27                   7                 subalpine                   7   \n",
       "28                   7                 subalpine                   7   \n",
       "29                   7                 subalpine                   7   \n",
       "30                   7                 subalpine                   7   \n",
       "31                   7                 subalpine                   7   \n",
       "32                   7                 subalpine                   7   \n",
       "33                   7                 subalpine                   7   \n",
       "34                   8                    alpine                   7   \n",
       "35                   8                    alpine                   7   \n",
       "36                   8                    alpine                   7   \n",
       "37                   8                    alpine                   7   \n",
       "38                   8                    alpine                   7   \n",
       "39                   8                    alpine                   7   \n",
       "\n",
       "   Geologic_Zone_Description  \n",
       "0      igneousandmetamorphic  \n",
       "1      igneousandmetamorphic  \n",
       "2      igneousandmetamorphic  \n",
       "3      igneousandmetamorphic  \n",
       "4      igneousandmetamorphic  \n",
       "5      igneousandmetamorphic  \n",
       "6           mixedsedimentary  \n",
       "7           mixedsedimentary  \n",
       "8                    glacial  \n",
       "9      igneousandmetamorphic  \n",
       "10     igneousandmetamorphic  \n",
       "11     igneousandmetamorphic  \n",
       "12     igneousandmetamorphic  \n",
       "13                  alluvium  \n",
       "14                  alluvium  \n",
       "15                  alluvium  \n",
       "16                  alluvium  \n",
       "17     igneousandmetamorphic  \n",
       "18                  alluvium  \n",
       "19                  alluvium  \n",
       "20                  alluvium  \n",
       "21                   glacial  \n",
       "22                   glacial  \n",
       "23     igneousandmetamorphic  \n",
       "24     igneousandmetamorphic  \n",
       "25     igneousandmetamorphic  \n",
       "26     igneousandmetamorphic  \n",
       "27     igneousandmetamorphic  \n",
       "28     igneousandmetamorphic  \n",
       "29     igneousandmetamorphic  \n",
       "30     igneousandmetamorphic  \n",
       "31     igneousandmetamorphic  \n",
       "32     igneousandmetamorphic  \n",
       "33     igneousandmetamorphic  \n",
       "34     igneousandmetamorphic  \n",
       "35     igneousandmetamorphic  \n",
       "36     igneousandmetamorphic  \n",
       "37     igneousandmetamorphic  \n",
       "38     igneousandmetamorphic  \n",
       "39     igneousandmetamorphic  "
      ]
     },
     "execution_count": 326,
     "metadata": {},
     "output_type": "execute_result"
    }
   ],
   "source": [
    "Soil_Type = {'Type':[1,2,3,4,5,6,7,8,9,10,11,12,13,14,15,16,17,18,19,20,21,22,23,24,25,26,27,28,29,30,31,32,33,34,35,36,37,38,39,40],'Description':['Cathedral family - Rock outcrop complex, extremely stony','Vanet - Ratake families complex, very stony','Haploborolis - Rock outcrop complex, rubbly','Ratake family - Rock outcrop complex, rubbly','Vanet family - Rock outcrop complex complex, rubbly','Vanet - Wetmore families - Rock outcrop complex, stony','Gothic family','Supervisor - Limber families complex','Troutville family, very stony','Bullwark - Catamount families - Rock outcrop complex, rubbly','Bullwark - Catamount families - Rock land complex, rubbly','Legault family - Rock land complex, stony','Catamount family - Rock land - Bullwark family complex, rubbly','Pachic Argiborolis - Aquolis complex','Unspecified in the USFS Soil and ELU Survey','Cryaquolis - Cryoborolis complex','Gateview family - Cryaquolis complex','Rogert family, very stony','Typic Cryaquolis - Borohemists complex','Typic Cryaquepts - Typic Cryaquolls complex','Typic Cryaquolls - Leighcan family, till substratum complex','Leighcan family, till substratum, extremely bouldery','Leighcan family, till substratum - Typic Cryaquolls complex','Leighcan family, extremely stony','Leighcan family, warm, extremely stony','Granile - Catamount families complex, very stony','Leighcan family, warm - Rock outcrop complex, extremely stony','Leighcan family - Rock outcrop complex, extremely stony','Como - Legault families complex, extremely stony','Como family - Rock land - Legault family complex, extremely stony','Leighcan - Catamount families complex, extremely stony','Catamount family - Rock outcrop - Leighcan family complex, extremely stony','Leighcan - Catamount families - Rock outcrop complex, extremely stony','Cryorthents - Rock land complex, extremely stony','Cryumbrepts - Rock outcrop - Cryaquepts complex','Bross family - Rock land - Cryumbrepts complex, extremely stony','Rock outcrop - Cryumbrepts - Cryorthents complex, extremely stony','Leighcan - Moran families - Cryaquolls complex, extremely stony','Moran family - Cryorthents - Leighcan family complex, extremely stony','Moran family - Cryorthents - Rock land complex, extremely stony'],'Climatic_Zone_Code':[2,2,2,2,2,2,3,3,4,4,4,4,4,5,5,6,6,6,7,7,7,7,7,7,7,7,7,7,7,7,7,7,7,7,8,8,8,8,8,8],'Climatic_Zone_Description':['lowermontane','lowermontane','lowermontane','lowermontane','lowermontane','lowermontane','montanedry','montanedry','montane','montane','montane','montane','montane','montanedryandmontane','montanedryandmontane','montaneandsubalpine','montaneandsubalpine','montaneandsubalpine','subalpine','subalpine','subalpine','subalpine','subalpine','subalpine','subalpine','subalpine','subalpine','subalpine','subalpine','subalpine','subalpine','subalpine','subalpine','subalpine','alpine','alpine','alpine','alpine','alpine','alpine'],'Geologic_Zone_Code':[7,7,7,7,7,7,5,5,2,7,7,7,7,1,1,1,1,7,1,1,1,2,2,7,7,7,7,7,7,7,7,7,7,7,7,7,7,7,7,7],'Geologic_Zone_Description':['igneousandmetamorphic','igneousandmetamorphic','igneousandmetamorphic','igneousandmetamorphic','igneousandmetamorphic','igneousandmetamorphic','mixedsedimentary','mixedsedimentary','glacial','igneousandmetamorphic','igneousandmetamorphic','igneousandmetamorphic','igneousandmetamorphic','alluvium','alluvium','alluvium','alluvium','igneousandmetamorphic','alluvium','alluvium','alluvium','glacial','glacial','igneousandmetamorphic','igneousandmetamorphic','igneousandmetamorphic','igneousandmetamorphic','igneousandmetamorphic','igneousandmetamorphic','igneousandmetamorphic','igneousandmetamorphic','igneousandmetamorphic','igneousandmetamorphic','igneousandmetamorphic','igneousandmetamorphic','igneousandmetamorphic','igneousandmetamorphic','igneousandmetamorphic','igneousandmetamorphic','igneousandmetamorphic']}\n",
    "Soil_Type = pd.DataFrame(Soil_Type)\n",
    "Soil_Type"
   ]
  },
  {
   "cell_type": "code",
   "execution_count": 327,
   "metadata": {},
   "outputs": [
    {
     "data": {
      "text/plain": [
       "Elevation                             581012\n",
       "Aspect                                581012\n",
       "Slope                                 581012\n",
       "Horizontal_Distance_To_Hydrology      581012\n",
       "Vertical_Distance_To_Hydrology        581012\n",
       "Horizontal_Distance_To_Roadways       581012\n",
       "Hillshade_9am                         581012\n",
       "Hillshade_Noon                        581012\n",
       "Hillshade_3pm                         581012\n",
       "Horizontal_Distance_To_Fire_Points    581012\n",
       "Wilderness_Area_1                     581012\n",
       "Wilderness_Area_2                     581012\n",
       "Wilderness_Area_3                     581012\n",
       "Wilderness_Area_4                     581012\n",
       "Soil_Type_1                           581012\n",
       "Soil_Type_2                           581012\n",
       "Soil_Type_3                           581012\n",
       "Soil_Type_4                           581012\n",
       "Soil_Type_5                           581012\n",
       "Soil_Type_6                           581012\n",
       "Soil_Type_7                           581012\n",
       "Soil_Type_8                           581012\n",
       "Soil_Type_9                           581012\n",
       "Soil_Type_10                          581012\n",
       "Soil_Type_11                          581012\n",
       "Soil_Type_12                          581012\n",
       "Soil_Type_13                          581012\n",
       "Soil_Type_14                          581012\n",
       "Soil_Type_15                          581012\n",
       "Soil_Type_16                          581012\n",
       "Soil_Type_17                          581012\n",
       "Soil_Type_18                          581012\n",
       "Soil_Type_19                          581012\n",
       "Soil_Type_20                          581012\n",
       "Soil_Type_21                          581012\n",
       "Soil_Type_22                          581012\n",
       "Soil_Type_23                          581012\n",
       "Soil_Type_24                          581012\n",
       "Soil_Type_25                          581012\n",
       "Soil_Type_26                          581012\n",
       "Soil_Type_27                          581012\n",
       "Soil_Type_28                          581012\n",
       "Soil_Type_29                          581012\n",
       "Soil_Type_30                          581012\n",
       "Soil_Type_31                          581012\n",
       "Soil_Type_32                          581012\n",
       "Soil_Type_33                          581012\n",
       "Soil_Type_34                          581012\n",
       "Soil_Type_35                          581012\n",
       "Soil_Type_36                          581012\n",
       "Soil_Type_37                          581012\n",
       "Soil_Type_38                          581012\n",
       "Soil_Type_39                          581012\n",
       "Soil_Type_40                          581012\n",
       "Cover_Type                            581012\n",
       "dtype: int64"
      ]
     },
     "execution_count": 327,
     "metadata": {},
     "output_type": "execute_result"
    }
   ],
   "source": [
    "data.count()\n",
    "#Nenhum valor nulo"
   ]
  },
  {
   "cell_type": "code",
   "execution_count": 328,
   "metadata": {},
   "outputs": [
    {
     "data": {
      "text/html": [
       "<div>\n",
       "<style scoped>\n",
       "    .dataframe tbody tr th:only-of-type {\n",
       "        vertical-align: middle;\n",
       "    }\n",
       "\n",
       "    .dataframe tbody tr th {\n",
       "        vertical-align: top;\n",
       "    }\n",
       "\n",
       "    .dataframe thead th {\n",
       "        text-align: right;\n",
       "    }\n",
       "</style>\n",
       "<table border=\"1\" class=\"dataframe\">\n",
       "  <thead>\n",
       "    <tr style=\"text-align: right;\">\n",
       "      <th></th>\n",
       "      <th>Elevation</th>\n",
       "      <th>Aspect</th>\n",
       "      <th>Slope</th>\n",
       "      <th>Horizontal_Distance_To_Hydrology</th>\n",
       "      <th>Vertical_Distance_To_Hydrology</th>\n",
       "      <th>Horizontal_Distance_To_Roadways</th>\n",
       "      <th>Hillshade_9am</th>\n",
       "      <th>Hillshade_Noon</th>\n",
       "      <th>Hillshade_3pm</th>\n",
       "      <th>Horizontal_Distance_To_Fire_Points</th>\n",
       "    </tr>\n",
       "  </thead>\n",
       "  <tbody>\n",
       "    <tr>\n",
       "      <th>count</th>\n",
       "      <td>581012.000000</td>\n",
       "      <td>581012.000000</td>\n",
       "      <td>581012.000000</td>\n",
       "      <td>581012.000000</td>\n",
       "      <td>581012.000000</td>\n",
       "      <td>581012.000000</td>\n",
       "      <td>581012.000000</td>\n",
       "      <td>581012.000000</td>\n",
       "      <td>581012.000000</td>\n",
       "      <td>581012.000000</td>\n",
       "    </tr>\n",
       "    <tr>\n",
       "      <th>mean</th>\n",
       "      <td>2959.365301</td>\n",
       "      <td>155.656807</td>\n",
       "      <td>14.103704</td>\n",
       "      <td>269.428217</td>\n",
       "      <td>46.418855</td>\n",
       "      <td>2350.146611</td>\n",
       "      <td>212.146049</td>\n",
       "      <td>223.318716</td>\n",
       "      <td>142.528263</td>\n",
       "      <td>1980.291226</td>\n",
       "    </tr>\n",
       "    <tr>\n",
       "      <th>std</th>\n",
       "      <td>279.984734</td>\n",
       "      <td>111.913721</td>\n",
       "      <td>7.488242</td>\n",
       "      <td>212.549356</td>\n",
       "      <td>58.295232</td>\n",
       "      <td>1559.254870</td>\n",
       "      <td>26.769889</td>\n",
       "      <td>19.768697</td>\n",
       "      <td>38.274529</td>\n",
       "      <td>1324.195210</td>\n",
       "    </tr>\n",
       "    <tr>\n",
       "      <th>min</th>\n",
       "      <td>1859.000000</td>\n",
       "      <td>0.000000</td>\n",
       "      <td>0.000000</td>\n",
       "      <td>0.000000</td>\n",
       "      <td>-173.000000</td>\n",
       "      <td>0.000000</td>\n",
       "      <td>0.000000</td>\n",
       "      <td>0.000000</td>\n",
       "      <td>0.000000</td>\n",
       "      <td>0.000000</td>\n",
       "    </tr>\n",
       "    <tr>\n",
       "      <th>25%</th>\n",
       "      <td>2809.000000</td>\n",
       "      <td>58.000000</td>\n",
       "      <td>9.000000</td>\n",
       "      <td>108.000000</td>\n",
       "      <td>7.000000</td>\n",
       "      <td>1106.000000</td>\n",
       "      <td>198.000000</td>\n",
       "      <td>213.000000</td>\n",
       "      <td>119.000000</td>\n",
       "      <td>1024.000000</td>\n",
       "    </tr>\n",
       "    <tr>\n",
       "      <th>50%</th>\n",
       "      <td>2996.000000</td>\n",
       "      <td>127.000000</td>\n",
       "      <td>13.000000</td>\n",
       "      <td>218.000000</td>\n",
       "      <td>30.000000</td>\n",
       "      <td>1997.000000</td>\n",
       "      <td>218.000000</td>\n",
       "      <td>226.000000</td>\n",
       "      <td>143.000000</td>\n",
       "      <td>1710.000000</td>\n",
       "    </tr>\n",
       "    <tr>\n",
       "      <th>75%</th>\n",
       "      <td>3163.000000</td>\n",
       "      <td>260.000000</td>\n",
       "      <td>18.000000</td>\n",
       "      <td>384.000000</td>\n",
       "      <td>69.000000</td>\n",
       "      <td>3328.000000</td>\n",
       "      <td>231.000000</td>\n",
       "      <td>237.000000</td>\n",
       "      <td>168.000000</td>\n",
       "      <td>2550.000000</td>\n",
       "    </tr>\n",
       "    <tr>\n",
       "      <th>max</th>\n",
       "      <td>3858.000000</td>\n",
       "      <td>360.000000</td>\n",
       "      <td>66.000000</td>\n",
       "      <td>1397.000000</td>\n",
       "      <td>601.000000</td>\n",
       "      <td>7117.000000</td>\n",
       "      <td>254.000000</td>\n",
       "      <td>254.000000</td>\n",
       "      <td>254.000000</td>\n",
       "      <td>7173.000000</td>\n",
       "    </tr>\n",
       "  </tbody>\n",
       "</table>\n",
       "</div>"
      ],
      "text/plain": [
       "           Elevation         Aspect          Slope  \\\n",
       "count  581012.000000  581012.000000  581012.000000   \n",
       "mean     2959.365301     155.656807      14.103704   \n",
       "std       279.984734     111.913721       7.488242   \n",
       "min      1859.000000       0.000000       0.000000   \n",
       "25%      2809.000000      58.000000       9.000000   \n",
       "50%      2996.000000     127.000000      13.000000   \n",
       "75%      3163.000000     260.000000      18.000000   \n",
       "max      3858.000000     360.000000      66.000000   \n",
       "\n",
       "       Horizontal_Distance_To_Hydrology  Vertical_Distance_To_Hydrology  \\\n",
       "count                     581012.000000                   581012.000000   \n",
       "mean                         269.428217                       46.418855   \n",
       "std                          212.549356                       58.295232   \n",
       "min                            0.000000                     -173.000000   \n",
       "25%                          108.000000                        7.000000   \n",
       "50%                          218.000000                       30.000000   \n",
       "75%                          384.000000                       69.000000   \n",
       "max                         1397.000000                      601.000000   \n",
       "\n",
       "       Horizontal_Distance_To_Roadways  Hillshade_9am  Hillshade_Noon  \\\n",
       "count                    581012.000000  581012.000000   581012.000000   \n",
       "mean                       2350.146611     212.146049      223.318716   \n",
       "std                        1559.254870      26.769889       19.768697   \n",
       "min                           0.000000       0.000000        0.000000   \n",
       "25%                        1106.000000     198.000000      213.000000   \n",
       "50%                        1997.000000     218.000000      226.000000   \n",
       "75%                        3328.000000     231.000000      237.000000   \n",
       "max                        7117.000000     254.000000      254.000000   \n",
       "\n",
       "       Hillshade_3pm  Horizontal_Distance_To_Fire_Points  \n",
       "count  581012.000000                       581012.000000  \n",
       "mean      142.528263                         1980.291226  \n",
       "std        38.274529                         1324.195210  \n",
       "min         0.000000                            0.000000  \n",
       "25%       119.000000                         1024.000000  \n",
       "50%       143.000000                         1710.000000  \n",
       "75%       168.000000                         2550.000000  \n",
       "max       254.000000                         7173.000000  "
      ]
     },
     "execution_count": 328,
     "metadata": {},
     "output_type": "execute_result"
    }
   ],
   "source": [
    "data.iloc[0:,0:10].describe()"
   ]
  },
  {
   "cell_type": "code",
   "execution_count": 329,
   "metadata": {},
   "outputs": [
    {
     "data": {
      "text/plain": [
       "array([1, 0], dtype=int64)"
      ]
     },
     "execution_count": 329,
     "metadata": {},
     "output_type": "execute_result"
    }
   ],
   "source": [
    "pd.unique(data.iloc[0:,10:54].values.ravel('K'))\n",
    "#Nenhum valor fora do permitido"
   ]
  },
  {
   "cell_type": "code",
   "execution_count": 330,
   "metadata": {},
   "outputs": [
    {
     "data": {
      "text/plain": [
       "array([5, 2, 1, 7, 3, 6, 4], dtype=int64)"
      ]
     },
     "execution_count": 330,
     "metadata": {},
     "output_type": "execute_result"
    }
   ],
   "source": [
    "data['Cover_Type'].unique()\n",
    "#Nenhum valor fora do permitido"
   ]
  },
  {
   "cell_type": "markdown",
   "metadata": {},
   "source": [
    "### 3) **(80%)** Nos blocos seguintes implemente seus classificadores (serão implementados 2 métodos diferentes)."
   ]
  },
  {
   "cell_type": "markdown",
   "metadata": {},
   "source": [
    "#### 3.1) Qual método escolhido?"
   ]
  },
  {
   "cell_type": "markdown",
   "metadata": {},
   "source": [
    "Linear Regression"
   ]
  },
  {
   "cell_type": "markdown",
   "metadata": {},
   "source": [
    "#### 3.2) **(10%)** Baseline - Implemente seu classificador da forma mais simples possível para esse ser seu baseline"
   ]
  },
  {
   "cell_type": "code",
   "execution_count": 331,
   "metadata": {},
   "outputs": [],
   "source": [
    "base_df_linear = pd.DataFrame.copy(data)\n",
    "X = base_df_linear.iloc[0:,0:54]\n",
    "y = base_df_linear.iloc[0:,54]"
   ]
  },
  {
   "cell_type": "code",
   "execution_count": 332,
   "metadata": {},
   "outputs": [],
   "source": [
    "X_train, X_test, y_train, y_test = train_test_split(X, y, test_size=0.2, random_state=0)"
   ]
  },
  {
   "cell_type": "code",
   "execution_count": 333,
   "metadata": {},
   "outputs": [
    {
     "data": {
      "text/plain": [
       "LinearRegression(copy_X=True, fit_intercept=True, n_jobs=None, normalize=False)"
      ]
     },
     "execution_count": 333,
     "metadata": {},
     "output_type": "execute_result"
    }
   ],
   "source": [
    "regressor = LinearRegression()  \n",
    "regressor.fit(X_train, y_train)"
   ]
  },
  {
   "cell_type": "code",
   "execution_count": 334,
   "metadata": {},
   "outputs": [],
   "source": [
    "y_pred = regressor.predict(X_test)"
   ]
  },
  {
   "cell_type": "code",
   "execution_count": 335,
   "metadata": {},
   "outputs": [
    {
     "name": "stdout",
     "output_type": "stream",
     "text": [
      "Score: 0.323434740334\n"
     ]
    }
   ],
   "source": [
    "print('Score:',sklearn.metrics.r2_score(y_test,y_pred))"
   ]
  },
  {
   "cell_type": "markdown",
   "metadata": {},
   "source": [
    "#### 3.3) **(20%)** Versão 1 - O que podemos fazer para melhorar nosso baseline? Aplique técnicas como redução de dimensionalidade, normalização ou outras. Compare os resultados."
   ]
  },
  {
   "cell_type": "code",
   "execution_count": 336,
   "metadata": {},
   "outputs": [],
   "source": [
    "base_df_linear2 = pd.DataFrame.copy(data)"
   ]
  },
  {
   "cell_type": "code",
   "execution_count": 337,
   "metadata": {},
   "outputs": [
    {
     "data": {
      "text/html": [
       "<div>\n",
       "<style scoped>\n",
       "    .dataframe tbody tr th:only-of-type {\n",
       "        vertical-align: middle;\n",
       "    }\n",
       "\n",
       "    .dataframe tbody tr th {\n",
       "        vertical-align: top;\n",
       "    }\n",
       "\n",
       "    .dataframe thead th {\n",
       "        text-align: right;\n",
       "    }\n",
       "</style>\n",
       "<table border=\"1\" class=\"dataframe\">\n",
       "  <thead>\n",
       "    <tr style=\"text-align: right;\">\n",
       "      <th></th>\n",
       "      <th>Wilderness_Area_1</th>\n",
       "      <th>Wilderness_Area_2</th>\n",
       "      <th>Wilderness_Area_3</th>\n",
       "      <th>Wilderness_Area_4</th>\n",
       "    </tr>\n",
       "  </thead>\n",
       "  <tbody>\n",
       "    <tr>\n",
       "      <th>0</th>\n",
       "      <td>1</td>\n",
       "      <td>0</td>\n",
       "      <td>0</td>\n",
       "      <td>0</td>\n",
       "    </tr>\n",
       "    <tr>\n",
       "      <th>1</th>\n",
       "      <td>1</td>\n",
       "      <td>0</td>\n",
       "      <td>0</td>\n",
       "      <td>0</td>\n",
       "    </tr>\n",
       "    <tr>\n",
       "      <th>2</th>\n",
       "      <td>1</td>\n",
       "      <td>0</td>\n",
       "      <td>0</td>\n",
       "      <td>0</td>\n",
       "    </tr>\n",
       "    <tr>\n",
       "      <th>3</th>\n",
       "      <td>1</td>\n",
       "      <td>0</td>\n",
       "      <td>0</td>\n",
       "      <td>0</td>\n",
       "    </tr>\n",
       "    <tr>\n",
       "      <th>4</th>\n",
       "      <td>1</td>\n",
       "      <td>0</td>\n",
       "      <td>0</td>\n",
       "      <td>0</td>\n",
       "    </tr>\n",
       "    <tr>\n",
       "      <th>...</th>\n",
       "      <td>...</td>\n",
       "      <td>...</td>\n",
       "      <td>...</td>\n",
       "      <td>...</td>\n",
       "    </tr>\n",
       "    <tr>\n",
       "      <th>581007</th>\n",
       "      <td>0</td>\n",
       "      <td>0</td>\n",
       "      <td>1</td>\n",
       "      <td>0</td>\n",
       "    </tr>\n",
       "    <tr>\n",
       "      <th>581008</th>\n",
       "      <td>0</td>\n",
       "      <td>0</td>\n",
       "      <td>1</td>\n",
       "      <td>0</td>\n",
       "    </tr>\n",
       "    <tr>\n",
       "      <th>581009</th>\n",
       "      <td>0</td>\n",
       "      <td>0</td>\n",
       "      <td>1</td>\n",
       "      <td>0</td>\n",
       "    </tr>\n",
       "    <tr>\n",
       "      <th>581010</th>\n",
       "      <td>0</td>\n",
       "      <td>0</td>\n",
       "      <td>1</td>\n",
       "      <td>0</td>\n",
       "    </tr>\n",
       "    <tr>\n",
       "      <th>581011</th>\n",
       "      <td>0</td>\n",
       "      <td>0</td>\n",
       "      <td>1</td>\n",
       "      <td>0</td>\n",
       "    </tr>\n",
       "  </tbody>\n",
       "</table>\n",
       "<p>581012 rows × 4 columns</p>\n",
       "</div>"
      ],
      "text/plain": [
       "        Wilderness_Area_1  Wilderness_Area_2  Wilderness_Area_3  \\\n",
       "0                       1                  0                  0   \n",
       "1                       1                  0                  0   \n",
       "2                       1                  0                  0   \n",
       "3                       1                  0                  0   \n",
       "4                       1                  0                  0   \n",
       "...                   ...                ...                ...   \n",
       "581007                  0                  0                  1   \n",
       "581008                  0                  0                  1   \n",
       "581009                  0                  0                  1   \n",
       "581010                  0                  0                  1   \n",
       "581011                  0                  0                  1   \n",
       "\n",
       "        Wilderness_Area_4  \n",
       "0                       0  \n",
       "1                       0  \n",
       "2                       0  \n",
       "3                       0  \n",
       "4                       0  \n",
       "...                   ...  \n",
       "581007                  0  \n",
       "581008                  0  \n",
       "581009                  0  \n",
       "581010                  0  \n",
       "581011                  0  \n",
       "\n",
       "[581012 rows x 4 columns]"
      ]
     },
     "execution_count": 337,
     "metadata": {},
     "output_type": "execute_result"
    }
   ],
   "source": [
    "base_df_linear2.iloc[0:,10:14]"
   ]
  },
  {
   "cell_type": "code",
   "execution_count": 338,
   "metadata": {},
   "outputs": [],
   "source": [
    "Wilderness_Area = {}\n",
    "Wilderness_Area = pd.DataFrame(Wilderness_Area)\n",
    "i = 1\n",
    "while i < 5:\n",
    "    Wilderness_Area['Wilderness_Area_'+ str(i)] = base_df_linear2['Wilderness_Area_'+ str(i)]*i\n",
    "    i = i + 1\n",
    "Wilderness_Area['Wilderness_Area'] = Wilderness_Area.sum(axis=1)\n",
    "Wilderness_Area = Wilderness_Area.drop(Wilderness_Area.loc[:, 'Wilderness_Area_1':'Wilderness_Area_4'].columns, axis = 1)"
   ]
  },
  {
   "cell_type": "code",
   "execution_count": 339,
   "metadata": {},
   "outputs": [
    {
     "data": {
      "text/html": [
       "<div>\n",
       "<style scoped>\n",
       "    .dataframe tbody tr th:only-of-type {\n",
       "        vertical-align: middle;\n",
       "    }\n",
       "\n",
       "    .dataframe tbody tr th {\n",
       "        vertical-align: top;\n",
       "    }\n",
       "\n",
       "    .dataframe thead th {\n",
       "        text-align: right;\n",
       "    }\n",
       "</style>\n",
       "<table border=\"1\" class=\"dataframe\">\n",
       "  <thead>\n",
       "    <tr style=\"text-align: right;\">\n",
       "      <th></th>\n",
       "      <th>Wilderness_Area</th>\n",
       "    </tr>\n",
       "  </thead>\n",
       "  <tbody>\n",
       "    <tr>\n",
       "      <th>0</th>\n",
       "      <td>1</td>\n",
       "    </tr>\n",
       "    <tr>\n",
       "      <th>1</th>\n",
       "      <td>1</td>\n",
       "    </tr>\n",
       "    <tr>\n",
       "      <th>2</th>\n",
       "      <td>1</td>\n",
       "    </tr>\n",
       "    <tr>\n",
       "      <th>3</th>\n",
       "      <td>1</td>\n",
       "    </tr>\n",
       "    <tr>\n",
       "      <th>4</th>\n",
       "      <td>1</td>\n",
       "    </tr>\n",
       "    <tr>\n",
       "      <th>...</th>\n",
       "      <td>...</td>\n",
       "    </tr>\n",
       "    <tr>\n",
       "      <th>581007</th>\n",
       "      <td>3</td>\n",
       "    </tr>\n",
       "    <tr>\n",
       "      <th>581008</th>\n",
       "      <td>3</td>\n",
       "    </tr>\n",
       "    <tr>\n",
       "      <th>581009</th>\n",
       "      <td>3</td>\n",
       "    </tr>\n",
       "    <tr>\n",
       "      <th>581010</th>\n",
       "      <td>3</td>\n",
       "    </tr>\n",
       "    <tr>\n",
       "      <th>581011</th>\n",
       "      <td>3</td>\n",
       "    </tr>\n",
       "  </tbody>\n",
       "</table>\n",
       "<p>581012 rows × 1 columns</p>\n",
       "</div>"
      ],
      "text/plain": [
       "        Wilderness_Area\n",
       "0                     1\n",
       "1                     1\n",
       "2                     1\n",
       "3                     1\n",
       "4                     1\n",
       "...                 ...\n",
       "581007                3\n",
       "581008                3\n",
       "581009                3\n",
       "581010                3\n",
       "581011                3\n",
       "\n",
       "[581012 rows x 1 columns]"
      ]
     },
     "execution_count": 339,
     "metadata": {},
     "output_type": "execute_result"
    }
   ],
   "source": [
    "Wilderness_Area"
   ]
  },
  {
   "cell_type": "code",
   "execution_count": 340,
   "metadata": {},
   "outputs": [
    {
     "data": {
      "text/plain": [
       "array([1, 3, 4, 2], dtype=int64)"
      ]
     },
     "execution_count": 340,
     "metadata": {},
     "output_type": "execute_result"
    }
   ],
   "source": [
    "Wilderness_Area['Wilderness_Area'].unique()"
   ]
  },
  {
   "cell_type": "code",
   "execution_count": 341,
   "metadata": {},
   "outputs": [
    {
     "data": {
      "text/html": [
       "<div>\n",
       "<style scoped>\n",
       "    .dataframe tbody tr th:only-of-type {\n",
       "        vertical-align: middle;\n",
       "    }\n",
       "\n",
       "    .dataframe tbody tr th {\n",
       "        vertical-align: top;\n",
       "    }\n",
       "\n",
       "    .dataframe thead th {\n",
       "        text-align: right;\n",
       "    }\n",
       "</style>\n",
       "<table border=\"1\" class=\"dataframe\">\n",
       "  <thead>\n",
       "    <tr style=\"text-align: right;\">\n",
       "      <th></th>\n",
       "      <th>Soil_Type_1</th>\n",
       "      <th>Soil_Type_2</th>\n",
       "      <th>Soil_Type_3</th>\n",
       "      <th>Soil_Type_4</th>\n",
       "      <th>Soil_Type_5</th>\n",
       "      <th>Soil_Type_6</th>\n",
       "      <th>Soil_Type_7</th>\n",
       "      <th>Soil_Type_8</th>\n",
       "      <th>Soil_Type_9</th>\n",
       "      <th>Soil_Type_10</th>\n",
       "      <th>...</th>\n",
       "      <th>Soil_Type_31</th>\n",
       "      <th>Soil_Type_32</th>\n",
       "      <th>Soil_Type_33</th>\n",
       "      <th>Soil_Type_34</th>\n",
       "      <th>Soil_Type_35</th>\n",
       "      <th>Soil_Type_36</th>\n",
       "      <th>Soil_Type_37</th>\n",
       "      <th>Soil_Type_38</th>\n",
       "      <th>Soil_Type_39</th>\n",
       "      <th>Soil_Type_40</th>\n",
       "    </tr>\n",
       "  </thead>\n",
       "  <tbody>\n",
       "    <tr>\n",
       "      <th>0</th>\n",
       "      <td>0</td>\n",
       "      <td>0</td>\n",
       "      <td>0</td>\n",
       "      <td>0</td>\n",
       "      <td>0</td>\n",
       "      <td>0</td>\n",
       "      <td>0</td>\n",
       "      <td>0</td>\n",
       "      <td>0</td>\n",
       "      <td>0</td>\n",
       "      <td>...</td>\n",
       "      <td>0</td>\n",
       "      <td>0</td>\n",
       "      <td>0</td>\n",
       "      <td>0</td>\n",
       "      <td>0</td>\n",
       "      <td>0</td>\n",
       "      <td>0</td>\n",
       "      <td>0</td>\n",
       "      <td>0</td>\n",
       "      <td>0</td>\n",
       "    </tr>\n",
       "    <tr>\n",
       "      <th>1</th>\n",
       "      <td>0</td>\n",
       "      <td>0</td>\n",
       "      <td>0</td>\n",
       "      <td>0</td>\n",
       "      <td>0</td>\n",
       "      <td>0</td>\n",
       "      <td>0</td>\n",
       "      <td>0</td>\n",
       "      <td>0</td>\n",
       "      <td>0</td>\n",
       "      <td>...</td>\n",
       "      <td>0</td>\n",
       "      <td>0</td>\n",
       "      <td>0</td>\n",
       "      <td>0</td>\n",
       "      <td>0</td>\n",
       "      <td>0</td>\n",
       "      <td>0</td>\n",
       "      <td>0</td>\n",
       "      <td>0</td>\n",
       "      <td>0</td>\n",
       "    </tr>\n",
       "    <tr>\n",
       "      <th>2</th>\n",
       "      <td>0</td>\n",
       "      <td>0</td>\n",
       "      <td>0</td>\n",
       "      <td>0</td>\n",
       "      <td>0</td>\n",
       "      <td>0</td>\n",
       "      <td>0</td>\n",
       "      <td>0</td>\n",
       "      <td>0</td>\n",
       "      <td>0</td>\n",
       "      <td>...</td>\n",
       "      <td>0</td>\n",
       "      <td>0</td>\n",
       "      <td>0</td>\n",
       "      <td>0</td>\n",
       "      <td>0</td>\n",
       "      <td>0</td>\n",
       "      <td>0</td>\n",
       "      <td>0</td>\n",
       "      <td>0</td>\n",
       "      <td>0</td>\n",
       "    </tr>\n",
       "    <tr>\n",
       "      <th>3</th>\n",
       "      <td>0</td>\n",
       "      <td>0</td>\n",
       "      <td>0</td>\n",
       "      <td>0</td>\n",
       "      <td>0</td>\n",
       "      <td>0</td>\n",
       "      <td>0</td>\n",
       "      <td>0</td>\n",
       "      <td>0</td>\n",
       "      <td>0</td>\n",
       "      <td>...</td>\n",
       "      <td>0</td>\n",
       "      <td>0</td>\n",
       "      <td>0</td>\n",
       "      <td>0</td>\n",
       "      <td>0</td>\n",
       "      <td>0</td>\n",
       "      <td>0</td>\n",
       "      <td>0</td>\n",
       "      <td>0</td>\n",
       "      <td>0</td>\n",
       "    </tr>\n",
       "    <tr>\n",
       "      <th>4</th>\n",
       "      <td>0</td>\n",
       "      <td>0</td>\n",
       "      <td>0</td>\n",
       "      <td>0</td>\n",
       "      <td>0</td>\n",
       "      <td>0</td>\n",
       "      <td>0</td>\n",
       "      <td>0</td>\n",
       "      <td>0</td>\n",
       "      <td>0</td>\n",
       "      <td>...</td>\n",
       "      <td>0</td>\n",
       "      <td>0</td>\n",
       "      <td>0</td>\n",
       "      <td>0</td>\n",
       "      <td>0</td>\n",
       "      <td>0</td>\n",
       "      <td>0</td>\n",
       "      <td>0</td>\n",
       "      <td>0</td>\n",
       "      <td>0</td>\n",
       "    </tr>\n",
       "    <tr>\n",
       "      <th>...</th>\n",
       "      <td>...</td>\n",
       "      <td>...</td>\n",
       "      <td>...</td>\n",
       "      <td>...</td>\n",
       "      <td>...</td>\n",
       "      <td>...</td>\n",
       "      <td>...</td>\n",
       "      <td>...</td>\n",
       "      <td>...</td>\n",
       "      <td>...</td>\n",
       "      <td>...</td>\n",
       "      <td>...</td>\n",
       "      <td>...</td>\n",
       "      <td>...</td>\n",
       "      <td>...</td>\n",
       "      <td>...</td>\n",
       "      <td>...</td>\n",
       "      <td>...</td>\n",
       "      <td>...</td>\n",
       "      <td>...</td>\n",
       "      <td>...</td>\n",
       "    </tr>\n",
       "    <tr>\n",
       "      <th>581007</th>\n",
       "      <td>0</td>\n",
       "      <td>1</td>\n",
       "      <td>0</td>\n",
       "      <td>0</td>\n",
       "      <td>0</td>\n",
       "      <td>0</td>\n",
       "      <td>0</td>\n",
       "      <td>0</td>\n",
       "      <td>0</td>\n",
       "      <td>0</td>\n",
       "      <td>...</td>\n",
       "      <td>0</td>\n",
       "      <td>0</td>\n",
       "      <td>0</td>\n",
       "      <td>0</td>\n",
       "      <td>0</td>\n",
       "      <td>0</td>\n",
       "      <td>0</td>\n",
       "      <td>0</td>\n",
       "      <td>0</td>\n",
       "      <td>0</td>\n",
       "    </tr>\n",
       "    <tr>\n",
       "      <th>581008</th>\n",
       "      <td>0</td>\n",
       "      <td>1</td>\n",
       "      <td>0</td>\n",
       "      <td>0</td>\n",
       "      <td>0</td>\n",
       "      <td>0</td>\n",
       "      <td>0</td>\n",
       "      <td>0</td>\n",
       "      <td>0</td>\n",
       "      <td>0</td>\n",
       "      <td>...</td>\n",
       "      <td>0</td>\n",
       "      <td>0</td>\n",
       "      <td>0</td>\n",
       "      <td>0</td>\n",
       "      <td>0</td>\n",
       "      <td>0</td>\n",
       "      <td>0</td>\n",
       "      <td>0</td>\n",
       "      <td>0</td>\n",
       "      <td>0</td>\n",
       "    </tr>\n",
       "    <tr>\n",
       "      <th>581009</th>\n",
       "      <td>0</td>\n",
       "      <td>1</td>\n",
       "      <td>0</td>\n",
       "      <td>0</td>\n",
       "      <td>0</td>\n",
       "      <td>0</td>\n",
       "      <td>0</td>\n",
       "      <td>0</td>\n",
       "      <td>0</td>\n",
       "      <td>0</td>\n",
       "      <td>...</td>\n",
       "      <td>0</td>\n",
       "      <td>0</td>\n",
       "      <td>0</td>\n",
       "      <td>0</td>\n",
       "      <td>0</td>\n",
       "      <td>0</td>\n",
       "      <td>0</td>\n",
       "      <td>0</td>\n",
       "      <td>0</td>\n",
       "      <td>0</td>\n",
       "    </tr>\n",
       "    <tr>\n",
       "      <th>581010</th>\n",
       "      <td>0</td>\n",
       "      <td>1</td>\n",
       "      <td>0</td>\n",
       "      <td>0</td>\n",
       "      <td>0</td>\n",
       "      <td>0</td>\n",
       "      <td>0</td>\n",
       "      <td>0</td>\n",
       "      <td>0</td>\n",
       "      <td>0</td>\n",
       "      <td>...</td>\n",
       "      <td>0</td>\n",
       "      <td>0</td>\n",
       "      <td>0</td>\n",
       "      <td>0</td>\n",
       "      <td>0</td>\n",
       "      <td>0</td>\n",
       "      <td>0</td>\n",
       "      <td>0</td>\n",
       "      <td>0</td>\n",
       "      <td>0</td>\n",
       "    </tr>\n",
       "    <tr>\n",
       "      <th>581011</th>\n",
       "      <td>0</td>\n",
       "      <td>1</td>\n",
       "      <td>0</td>\n",
       "      <td>0</td>\n",
       "      <td>0</td>\n",
       "      <td>0</td>\n",
       "      <td>0</td>\n",
       "      <td>0</td>\n",
       "      <td>0</td>\n",
       "      <td>0</td>\n",
       "      <td>...</td>\n",
       "      <td>0</td>\n",
       "      <td>0</td>\n",
       "      <td>0</td>\n",
       "      <td>0</td>\n",
       "      <td>0</td>\n",
       "      <td>0</td>\n",
       "      <td>0</td>\n",
       "      <td>0</td>\n",
       "      <td>0</td>\n",
       "      <td>0</td>\n",
       "    </tr>\n",
       "  </tbody>\n",
       "</table>\n",
       "<p>581012 rows × 40 columns</p>\n",
       "</div>"
      ],
      "text/plain": [
       "        Soil_Type_1  Soil_Type_2  Soil_Type_3  Soil_Type_4  Soil_Type_5  \\\n",
       "0                 0            0            0            0            0   \n",
       "1                 0            0            0            0            0   \n",
       "2                 0            0            0            0            0   \n",
       "3                 0            0            0            0            0   \n",
       "4                 0            0            0            0            0   \n",
       "...             ...          ...          ...          ...          ...   \n",
       "581007            0            1            0            0            0   \n",
       "581008            0            1            0            0            0   \n",
       "581009            0            1            0            0            0   \n",
       "581010            0            1            0            0            0   \n",
       "581011            0            1            0            0            0   \n",
       "\n",
       "        Soil_Type_6  Soil_Type_7  Soil_Type_8  Soil_Type_9  Soil_Type_10  ...  \\\n",
       "0                 0            0            0            0             0  ...   \n",
       "1                 0            0            0            0             0  ...   \n",
       "2                 0            0            0            0             0  ...   \n",
       "3                 0            0            0            0             0  ...   \n",
       "4                 0            0            0            0             0  ...   \n",
       "...             ...          ...          ...          ...           ...  ...   \n",
       "581007            0            0            0            0             0  ...   \n",
       "581008            0            0            0            0             0  ...   \n",
       "581009            0            0            0            0             0  ...   \n",
       "581010            0            0            0            0             0  ...   \n",
       "581011            0            0            0            0             0  ...   \n",
       "\n",
       "        Soil_Type_31  Soil_Type_32  Soil_Type_33  Soil_Type_34  Soil_Type_35  \\\n",
       "0                  0             0             0             0             0   \n",
       "1                  0             0             0             0             0   \n",
       "2                  0             0             0             0             0   \n",
       "3                  0             0             0             0             0   \n",
       "4                  0             0             0             0             0   \n",
       "...              ...           ...           ...           ...           ...   \n",
       "581007             0             0             0             0             0   \n",
       "581008             0             0             0             0             0   \n",
       "581009             0             0             0             0             0   \n",
       "581010             0             0             0             0             0   \n",
       "581011             0             0             0             0             0   \n",
       "\n",
       "        Soil_Type_36  Soil_Type_37  Soil_Type_38  Soil_Type_39  Soil_Type_40  \n",
       "0                  0             0             0             0             0  \n",
       "1                  0             0             0             0             0  \n",
       "2                  0             0             0             0             0  \n",
       "3                  0             0             0             0             0  \n",
       "4                  0             0             0             0             0  \n",
       "...              ...           ...           ...           ...           ...  \n",
       "581007             0             0             0             0             0  \n",
       "581008             0             0             0             0             0  \n",
       "581009             0             0             0             0             0  \n",
       "581010             0             0             0             0             0  \n",
       "581011             0             0             0             0             0  \n",
       "\n",
       "[581012 rows x 40 columns]"
      ]
     },
     "execution_count": 341,
     "metadata": {},
     "output_type": "execute_result"
    }
   ],
   "source": [
    "base_df_linear2.iloc[0:,14:54]"
   ]
  },
  {
   "cell_type": "code",
   "execution_count": 342,
   "metadata": {},
   "outputs": [],
   "source": [
    "Soil_Type = {}\n",
    "Soil_Type = pd.DataFrame(Soil_Type)\n",
    "i = 1\n",
    "while i < 41:\n",
    "    Soil_Type['Soil_Type_'+ str(i)] = base_df_linear2['Soil_Type_'+ str(i)]*i\n",
    "    i = i + 1\n",
    "Soil_Type['Soil_Type'] = Soil_Type.sum(axis=1)\n",
    "Soil_Type = Soil_Type.drop(Soil_Type.loc[:, 'Soil_Type_1':'Soil_Type_40'].columns, axis = 1)"
   ]
  },
  {
   "cell_type": "code",
   "execution_count": 343,
   "metadata": {},
   "outputs": [
    {
     "data": {
      "text/plain": [
       "array([29, 12, 30, 18, 16, 20, 24, 23, 40, 19,  8, 22, 39,  9, 38, 33, 31,\n",
       "       32, 11, 10,  5, 28,  4,  1, 13,  2, 17,  3, 34,  6, 14, 37, 35, 36,\n",
       "       21, 26, 27, 25,  7, 15], dtype=int64)"
      ]
     },
     "execution_count": 343,
     "metadata": {},
     "output_type": "execute_result"
    }
   ],
   "source": [
    "Soil_Type['Soil_Type'].unique()"
   ]
  },
  {
   "cell_type": "code",
   "execution_count": 344,
   "metadata": {},
   "outputs": [],
   "source": [
    "base_df_linear2 = base_df_linear2.drop(base_df_linear2.loc[:, 'Wilderness_Area_1':'Cover_Type'].columns, axis = 1)"
   ]
  },
  {
   "cell_type": "code",
   "execution_count": 345,
   "metadata": {},
   "outputs": [
    {
     "data": {
      "text/plain": [
       "Index(['Elevation', 'Aspect', 'Slope', 'Horizontal_Distance_To_Hydrology',\n",
       "       'Vertical_Distance_To_Hydrology', 'Horizontal_Distance_To_Roadways',\n",
       "       'Hillshade_9am', 'Hillshade_Noon', 'Hillshade_3pm',\n",
       "       'Horizontal_Distance_To_Fire_Points'],\n",
       "      dtype='object')"
      ]
     },
     "execution_count": 345,
     "metadata": {},
     "output_type": "execute_result"
    }
   ],
   "source": [
    "base_df_linear2.columns"
   ]
  },
  {
   "cell_type": "code",
   "execution_count": 346,
   "metadata": {},
   "outputs": [],
   "source": [
    "base_df_linear2_1 = pd.DataFrame.copy(base_df_linear2)\n",
    "base_df_linear2_2 = pd.DataFrame.copy(base_df_linear2)\n",
    "base_df_linear2_3 = pd.DataFrame.copy(base_df_linear2)\n",
    "Wilderness_Area_Bruto = pd.DataFrame.copy(data.iloc[0:,10:14])\n",
    "Soil_Type_Bruto = pd.DataFrame.copy(data.iloc[0:,14:54])\n",
    "Cover_Type = pd.DataFrame.copy(data.iloc[0:,54])"
   ]
  },
  {
   "cell_type": "code",
   "execution_count": 347,
   "metadata": {},
   "outputs": [
    {
     "data": {
      "text/plain": [
       "Index(['Wilderness_Area_1', 'Wilderness_Area_2', 'Wilderness_Area_3',\n",
       "       'Wilderness_Area_4'],\n",
       "      dtype='object')"
      ]
     },
     "execution_count": 347,
     "metadata": {},
     "output_type": "execute_result"
    }
   ],
   "source": [
    "Wilderness_Area_Bruto.columns"
   ]
  },
  {
   "cell_type": "code",
   "execution_count": 348,
   "metadata": {},
   "outputs": [
    {
     "data": {
      "text/plain": [
       "Index(['Soil_Type_1', 'Soil_Type_2', 'Soil_Type_3', 'Soil_Type_4',\n",
       "       'Soil_Type_5', 'Soil_Type_6', 'Soil_Type_7', 'Soil_Type_8',\n",
       "       'Soil_Type_9', 'Soil_Type_10', 'Soil_Type_11', 'Soil_Type_12',\n",
       "       'Soil_Type_13', 'Soil_Type_14', 'Soil_Type_15', 'Soil_Type_16',\n",
       "       'Soil_Type_17', 'Soil_Type_18', 'Soil_Type_19', 'Soil_Type_20',\n",
       "       'Soil_Type_21', 'Soil_Type_22', 'Soil_Type_23', 'Soil_Type_24',\n",
       "       'Soil_Type_25', 'Soil_Type_26', 'Soil_Type_27', 'Soil_Type_28',\n",
       "       'Soil_Type_29', 'Soil_Type_30', 'Soil_Type_31', 'Soil_Type_32',\n",
       "       'Soil_Type_33', 'Soil_Type_34', 'Soil_Type_35', 'Soil_Type_36',\n",
       "       'Soil_Type_37', 'Soil_Type_38', 'Soil_Type_39', 'Soil_Type_40'],\n",
       "      dtype='object')"
      ]
     },
     "execution_count": 348,
     "metadata": {},
     "output_type": "execute_result"
    }
   ],
   "source": [
    "Soil_Type_Bruto.columns"
   ]
  },
  {
   "cell_type": "code",
   "execution_count": 349,
   "metadata": {},
   "outputs": [
    {
     "data": {
      "text/plain": [
       "0         5\n",
       "1         5\n",
       "2         2\n",
       "3         2\n",
       "4         5\n",
       "         ..\n",
       "581007    3\n",
       "581008    3\n",
       "581009    3\n",
       "581010    3\n",
       "581011    3\n",
       "Name: Cover_Type, Length: 581012, dtype: int64"
      ]
     },
     "execution_count": 349,
     "metadata": {},
     "output_type": "execute_result"
    }
   ],
   "source": [
    "Cover_Type"
   ]
  },
  {
   "cell_type": "code",
   "execution_count": 350,
   "metadata": {},
   "outputs": [],
   "source": [
    "base_df_linear2_1 = pd.concat([base_df_linear2_1, Wilderness_Area, Soil_Type, Cover_Type], axis=1)\n",
    "base_df_linear2_2 = pd.concat([base_df_linear2_2, Wilderness_Area_Bruto, Soil_Type, Cover_Type], axis=1)\n",
    "base_df_linear2_3 = pd.concat([base_df_linear2_3, Wilderness_Area, Soil_Type_Bruto, Cover_Type], axis=1)"
   ]
  },
  {
   "cell_type": "code",
   "execution_count": 351,
   "metadata": {},
   "outputs": [
    {
     "name": "stdout",
     "output_type": "stream",
     "text": [
      "Index(['Elevation', 'Aspect', 'Slope', 'Horizontal_Distance_To_Hydrology',\n",
      "       'Vertical_Distance_To_Hydrology', 'Horizontal_Distance_To_Roadways',\n",
      "       'Hillshade_9am', 'Hillshade_Noon', 'Hillshade_3pm',\n",
      "       'Horizontal_Distance_To_Fire_Points', 'Wilderness_Area', 'Soil_Type',\n",
      "       'Cover_Type'],\n",
      "      dtype='object')\n",
      "(581012, 13)\n"
     ]
    }
   ],
   "source": [
    "print(base_df_linear2_1.columns)\n",
    "print(base_df_linear2_1.shape)"
   ]
  },
  {
   "cell_type": "code",
   "execution_count": 352,
   "metadata": {},
   "outputs": [
    {
     "name": "stdout",
     "output_type": "stream",
     "text": [
      "Index(['Elevation', 'Aspect', 'Slope', 'Horizontal_Distance_To_Hydrology',\n",
      "       'Vertical_Distance_To_Hydrology', 'Horizontal_Distance_To_Roadways',\n",
      "       'Hillshade_9am', 'Hillshade_Noon', 'Hillshade_3pm',\n",
      "       'Horizontal_Distance_To_Fire_Points', 'Wilderness_Area_1',\n",
      "       'Wilderness_Area_2', 'Wilderness_Area_3', 'Wilderness_Area_4',\n",
      "       'Soil_Type', 'Cover_Type'],\n",
      "      dtype='object')\n",
      "(581012, 16)\n"
     ]
    }
   ],
   "source": [
    "print(base_df_linear2_2.columns)\n",
    "print(base_df_linear2_2.shape)"
   ]
  },
  {
   "cell_type": "code",
   "execution_count": 353,
   "metadata": {},
   "outputs": [
    {
     "name": "stdout",
     "output_type": "stream",
     "text": [
      "Index(['Elevation', 'Aspect', 'Slope', 'Horizontal_Distance_To_Hydrology',\n",
      "       'Vertical_Distance_To_Hydrology', 'Horizontal_Distance_To_Roadways',\n",
      "       'Hillshade_9am', 'Hillshade_Noon', 'Hillshade_3pm',\n",
      "       'Horizontal_Distance_To_Fire_Points', 'Wilderness_Area', 'Soil_Type_1',\n",
      "       'Soil_Type_2', 'Soil_Type_3', 'Soil_Type_4', 'Soil_Type_5',\n",
      "       'Soil_Type_6', 'Soil_Type_7', 'Soil_Type_8', 'Soil_Type_9',\n",
      "       'Soil_Type_10', 'Soil_Type_11', 'Soil_Type_12', 'Soil_Type_13',\n",
      "       'Soil_Type_14', 'Soil_Type_15', 'Soil_Type_16', 'Soil_Type_17',\n",
      "       'Soil_Type_18', 'Soil_Type_19', 'Soil_Type_20', 'Soil_Type_21',\n",
      "       'Soil_Type_22', 'Soil_Type_23', 'Soil_Type_24', 'Soil_Type_25',\n",
      "       'Soil_Type_26', 'Soil_Type_27', 'Soil_Type_28', 'Soil_Type_29',\n",
      "       'Soil_Type_30', 'Soil_Type_31', 'Soil_Type_32', 'Soil_Type_33',\n",
      "       'Soil_Type_34', 'Soil_Type_35', 'Soil_Type_36', 'Soil_Type_37',\n",
      "       'Soil_Type_38', 'Soil_Type_39', 'Soil_Type_40', 'Cover_Type'],\n",
      "      dtype='object')\n",
      "(581012, 52)\n"
     ]
    }
   ],
   "source": [
    "print(base_df_linear2_3.columns)\n",
    "print(base_df_linear2_3.shape)"
   ]
  },
  {
   "cell_type": "code",
   "execution_count": 354,
   "metadata": {},
   "outputs": [
    {
     "name": "stdout",
     "output_type": "stream",
     "text": [
      "Score: 0.125356046125\n"
     ]
    }
   ],
   "source": [
    "X = base_df_linear2_1.iloc[0:,0:12]\n",
    "y = base_df_linear2_1.iloc[0:,12]\n",
    "X_train, X_test, y_train, y_test = train_test_split(X, y, test_size=0.2, random_state=0)\n",
    "regressor = LinearRegression()  \n",
    "regressor.fit(X_train, y_train)\n",
    "y_pred = regressor.predict(X_test)\n",
    "print('Score:',sklearn.metrics.r2_score(y_test,y_pred))"
   ]
  },
  {
   "cell_type": "code",
   "execution_count": 355,
   "metadata": {},
   "outputs": [
    {
     "name": "stdout",
     "output_type": "stream",
     "text": [
      "Score: 0.142908736426\n"
     ]
    }
   ],
   "source": [
    "X = base_df_linear2_2.iloc[0:,0:15]\n",
    "y = base_df_linear2_2.iloc[0:,15]\n",
    "X_train, X_test, y_train, y_test = train_test_split(X, y, test_size=0.2, random_state=0)\n",
    "regressor = LinearRegression()  \n",
    "regressor.fit(X_train, y_train)\n",
    "y_pred = regressor.predict(X_test)\n",
    "print('Score:',sklearn.metrics.r2_score(y_test,y_pred))"
   ]
  },
  {
   "cell_type": "code",
   "execution_count": 356,
   "metadata": {},
   "outputs": [
    {
     "name": "stdout",
     "output_type": "stream",
     "text": [
      "Score: 0.323335501331\n"
     ]
    }
   ],
   "source": [
    "X = base_df_linear2_3.iloc[0:,0:51]\n",
    "y = base_df_linear2_3.iloc[0:,51]\n",
    "X_train, X_test, y_train, y_test = train_test_split(X, y, test_size=0.2, random_state=0)\n",
    "regressor = LinearRegression()  \n",
    "regressor.fit(X_train, y_train)\n",
    "y_pred = regressor.predict(X_test)\n",
    "print('Score:',sklearn.metrics.r2_score(y_test,y_pred))"
   ]
  },
  {
   "cell_type": "markdown",
   "metadata": {},
   "source": [
    "O melhor resultado segue o da base line, vou tentar normalizar os dados representados em metros"
   ]
  },
  {
   "cell_type": "code",
   "execution_count": 357,
   "metadata": {},
   "outputs": [],
   "source": [
    "norm = base_df_linear2_1.loc[0:,['Elevation','Horizontal_Distance_To_Hydrology','Vertical_Distance_To_Hydrology','Horizontal_Distance_To_Roadways','Horizontal_Distance_To_Fire_Points']]"
   ]
  },
  {
   "cell_type": "code",
   "execution_count": 358,
   "metadata": {},
   "outputs": [],
   "source": [
    "p=MaxAbsScaler()\n",
    "p.fit(norm)\n",
    "MaxAbsScaler(copy=True)\n",
    "norm = p.transform(norm)"
   ]
  },
  {
   "cell_type": "code",
   "execution_count": 359,
   "metadata": {},
   "outputs": [],
   "source": [
    "norm = pd.DataFrame(norm, columns=['Elevation','Horizontal_Distance_To_Hydrology','Vertical_Distance_To_Hydrology','Horizontal_Distance_To_Roadways','Horizontal_Distance_To_Fire_Points'])"
   ]
  },
  {
   "cell_type": "code",
   "execution_count": 360,
   "metadata": {},
   "outputs": [
    {
     "data": {
      "text/html": [
       "<div>\n",
       "<style scoped>\n",
       "    .dataframe tbody tr th:only-of-type {\n",
       "        vertical-align: middle;\n",
       "    }\n",
       "\n",
       "    .dataframe tbody tr th {\n",
       "        vertical-align: top;\n",
       "    }\n",
       "\n",
       "    .dataframe thead th {\n",
       "        text-align: right;\n",
       "    }\n",
       "</style>\n",
       "<table border=\"1\" class=\"dataframe\">\n",
       "  <thead>\n",
       "    <tr style=\"text-align: right;\">\n",
       "      <th></th>\n",
       "      <th>Elevation</th>\n",
       "      <th>Horizontal_Distance_To_Hydrology</th>\n",
       "      <th>Vertical_Distance_To_Hydrology</th>\n",
       "      <th>Horizontal_Distance_To_Roadways</th>\n",
       "      <th>Horizontal_Distance_To_Fire_Points</th>\n",
       "    </tr>\n",
       "  </thead>\n",
       "  <tbody>\n",
       "    <tr>\n",
       "      <th>0</th>\n",
       "      <td>0.672888</td>\n",
       "      <td>0.184681</td>\n",
       "      <td>0.000000</td>\n",
       "      <td>0.071659</td>\n",
       "      <td>0.875366</td>\n",
       "    </tr>\n",
       "    <tr>\n",
       "      <th>1</th>\n",
       "      <td>0.671332</td>\n",
       "      <td>0.151754</td>\n",
       "      <td>-0.009983</td>\n",
       "      <td>0.054798</td>\n",
       "      <td>0.867838</td>\n",
       "    </tr>\n",
       "    <tr>\n",
       "      <th>2</th>\n",
       "      <td>0.726801</td>\n",
       "      <td>0.191840</td>\n",
       "      <td>0.108153</td>\n",
       "      <td>0.446817</td>\n",
       "      <td>0.853339</td>\n",
       "    </tr>\n",
       "    <tr>\n",
       "      <th>3</th>\n",
       "      <td>0.721877</td>\n",
       "      <td>0.173228</td>\n",
       "      <td>0.196339</td>\n",
       "      <td>0.434172</td>\n",
       "      <td>0.865886</td>\n",
       "    </tr>\n",
       "    <tr>\n",
       "      <th>4</th>\n",
       "      <td>0.672628</td>\n",
       "      <td>0.109520</td>\n",
       "      <td>-0.001664</td>\n",
       "      <td>0.054939</td>\n",
       "      <td>0.860449</td>\n",
       "    </tr>\n",
       "    <tr>\n",
       "      <th>...</th>\n",
       "      <td>...</td>\n",
       "      <td>...</td>\n",
       "      <td>...</td>\n",
       "      <td>...</td>\n",
       "      <td>...</td>\n",
       "    </tr>\n",
       "    <tr>\n",
       "      <th>581007</th>\n",
       "      <td>0.621047</td>\n",
       "      <td>0.060845</td>\n",
       "      <td>0.028286</td>\n",
       "      <td>0.015175</td>\n",
       "      <td>0.116688</td>\n",
       "    </tr>\n",
       "    <tr>\n",
       "      <th>581008</th>\n",
       "      <td>0.619751</td>\n",
       "      <td>0.047960</td>\n",
       "      <td>0.019967</td>\n",
       "      <td>0.013348</td>\n",
       "      <td>0.117803</td>\n",
       "    </tr>\n",
       "    <tr>\n",
       "      <th>581009</th>\n",
       "      <td>0.618455</td>\n",
       "      <td>0.042949</td>\n",
       "      <td>0.011647</td>\n",
       "      <td>0.012646</td>\n",
       "      <td>0.119058</td>\n",
       "    </tr>\n",
       "    <tr>\n",
       "      <th>581010</th>\n",
       "      <td>0.617937</td>\n",
       "      <td>0.042949</td>\n",
       "      <td>0.008319</td>\n",
       "      <td>0.012646</td>\n",
       "      <td>0.120452</td>\n",
       "    </tr>\n",
       "    <tr>\n",
       "      <th>581011</th>\n",
       "      <td>0.617678</td>\n",
       "      <td>0.042949</td>\n",
       "      <td>0.006656</td>\n",
       "      <td>0.009414</td>\n",
       "      <td>0.121985</td>\n",
       "    </tr>\n",
       "  </tbody>\n",
       "</table>\n",
       "<p>581012 rows × 5 columns</p>\n",
       "</div>"
      ],
      "text/plain": [
       "        Elevation  Horizontal_Distance_To_Hydrology  \\\n",
       "0        0.672888                          0.184681   \n",
       "1        0.671332                          0.151754   \n",
       "2        0.726801                          0.191840   \n",
       "3        0.721877                          0.173228   \n",
       "4        0.672628                          0.109520   \n",
       "...           ...                               ...   \n",
       "581007   0.621047                          0.060845   \n",
       "581008   0.619751                          0.047960   \n",
       "581009   0.618455                          0.042949   \n",
       "581010   0.617937                          0.042949   \n",
       "581011   0.617678                          0.042949   \n",
       "\n",
       "        Vertical_Distance_To_Hydrology  Horizontal_Distance_To_Roadways  \\\n",
       "0                             0.000000                         0.071659   \n",
       "1                            -0.009983                         0.054798   \n",
       "2                             0.108153                         0.446817   \n",
       "3                             0.196339                         0.434172   \n",
       "4                            -0.001664                         0.054939   \n",
       "...                                ...                              ...   \n",
       "581007                        0.028286                         0.015175   \n",
       "581008                        0.019967                         0.013348   \n",
       "581009                        0.011647                         0.012646   \n",
       "581010                        0.008319                         0.012646   \n",
       "581011                        0.006656                         0.009414   \n",
       "\n",
       "        Horizontal_Distance_To_Fire_Points  \n",
       "0                                 0.875366  \n",
       "1                                 0.867838  \n",
       "2                                 0.853339  \n",
       "3                                 0.865886  \n",
       "4                                 0.860449  \n",
       "...                                    ...  \n",
       "581007                            0.116688  \n",
       "581008                            0.117803  \n",
       "581009                            0.119058  \n",
       "581010                            0.120452  \n",
       "581011                            0.121985  \n",
       "\n",
       "[581012 rows x 5 columns]"
      ]
     },
     "execution_count": 360,
     "metadata": {},
     "output_type": "execute_result"
    }
   ],
   "source": [
    "norm"
   ]
  },
  {
   "cell_type": "code",
   "execution_count": 361,
   "metadata": {},
   "outputs": [],
   "source": [
    "base_df_linear2_1[['Elevation','Horizontal_Distance_To_Hydrology','Vertical_Distance_To_Hydrology','Horizontal_Distance_To_Roadways','Horizontal_Distance_To_Fire_Points']] = norm[['Elevation','Horizontal_Distance_To_Hydrology','Vertical_Distance_To_Hydrology','Horizontal_Distance_To_Roadways','Horizontal_Distance_To_Fire_Points']]\n",
    "base_df_linear2_2[['Elevation','Horizontal_Distance_To_Hydrology','Vertical_Distance_To_Hydrology','Horizontal_Distance_To_Roadways','Horizontal_Distance_To_Fire_Points']] = norm[['Elevation','Horizontal_Distance_To_Hydrology','Vertical_Distance_To_Hydrology','Horizontal_Distance_To_Roadways','Horizontal_Distance_To_Fire_Points']]\n",
    "base_df_linear2_3[['Elevation','Horizontal_Distance_To_Hydrology','Vertical_Distance_To_Hydrology','Horizontal_Distance_To_Roadways','Horizontal_Distance_To_Fire_Points']] = norm[['Elevation','Horizontal_Distance_To_Hydrology','Vertical_Distance_To_Hydrology','Horizontal_Distance_To_Roadways','Horizontal_Distance_To_Fire_Points']]\n",
    "base_df_linear2_4 = pd.DataFrame.copy(data)\n",
    "base_df_linear2_4[['Elevation','Horizontal_Distance_To_Hydrology','Vertical_Distance_To_Hydrology','Horizontal_Distance_To_Roadways','Horizontal_Distance_To_Fire_Points']] = norm[['Elevation','Horizontal_Distance_To_Hydrology','Vertical_Distance_To_Hydrology','Horizontal_Distance_To_Roadways','Horizontal_Distance_To_Fire_Points']]"
   ]
  },
  {
   "cell_type": "code",
   "execution_count": 362,
   "metadata": {},
   "outputs": [
    {
     "name": "stdout",
     "output_type": "stream",
     "text": [
      "Score: 0.125356046125\n"
     ]
    }
   ],
   "source": [
    "X = base_df_linear2_1.iloc[0:,0:12]\n",
    "y = base_df_linear2_1.iloc[0:,12]\n",
    "X_train, X_test, y_train, y_test = train_test_split(X, y, test_size=0.2, random_state=0)\n",
    "regressor = LinearRegression()  \n",
    "regressor.fit(X_train, y_train)\n",
    "y_pred = regressor.predict(X_test)\n",
    "print('Score:',sklearn.metrics.r2_score(y_test,y_pred))"
   ]
  },
  {
   "cell_type": "code",
   "execution_count": 363,
   "metadata": {},
   "outputs": [
    {
     "name": "stdout",
     "output_type": "stream",
     "text": [
      "Score: 0.142908736426\n"
     ]
    }
   ],
   "source": [
    "X = base_df_linear2_2.iloc[0:,0:15]\n",
    "y = base_df_linear2_2.iloc[0:,15]\n",
    "X_train, X_test, y_train, y_test = train_test_split(X, y, test_size=0.2, random_state=0)\n",
    "regressor = LinearRegression()  \n",
    "regressor.fit(X_train, y_train)\n",
    "y_pred = regressor.predict(X_test)\n",
    "print('Score:',sklearn.metrics.r2_score(y_test,y_pred))"
   ]
  },
  {
   "cell_type": "code",
   "execution_count": 364,
   "metadata": {},
   "outputs": [
    {
     "name": "stdout",
     "output_type": "stream",
     "text": [
      "Score: 0.323335501331\n"
     ]
    }
   ],
   "source": [
    "X = base_df_linear2_3.iloc[0:,0:51]\n",
    "y = base_df_linear2_3.iloc[0:,51]\n",
    "X_train, X_test, y_train, y_test = train_test_split(X, y, test_size=0.2, random_state=0)\n",
    "regressor = LinearRegression()  \n",
    "regressor.fit(X_train, y_train)\n",
    "y_pred = regressor.predict(X_test)\n",
    "print('Score:',sklearn.metrics.r2_score(y_test,y_pred))"
   ]
  },
  {
   "cell_type": "code",
   "execution_count": 365,
   "metadata": {},
   "outputs": [
    {
     "name": "stdout",
     "output_type": "stream",
     "text": [
      "Score: 0.323434740334\n"
     ]
    }
   ],
   "source": [
    "X = base_df_linear2_4.iloc[0:,0:54]\n",
    "y = base_df_linear2_4.iloc[0:,54]\n",
    "X_train, X_test, y_train, y_test = train_test_split(X, y, test_size=0.2, random_state=0)\n",
    "regressor = LinearRegression()  \n",
    "regressor.fit(X_train, y_train)\n",
    "y_pred = regressor.predict(X_test)\n",
    "print('Score:',sklearn.metrics.r2_score(y_test,y_pred))"
   ]
  },
  {
   "cell_type": "code",
   "execution_count": 366,
   "metadata": {},
   "outputs": [
    {
     "name": "stdout",
     "output_type": "stream",
     "text": [
      "Score: 0.323433827263\n"
     ]
    }
   ],
   "source": [
    "base_df_linear2_5 = pd.DataFrame.copy(data)\n",
    "X = base_df_linear2_5.iloc[0:,0:54]\n",
    "y = base_df_linear2_5.iloc[0:,54]\n",
    "X_train, X_test, y_train, y_test = train_test_split(X, y, test_size=0.2, random_state=0)\n",
    "regressor = LinearRegression(normalize=True)  \n",
    "regressor.fit(X_train, y_train)\n",
    "y_pred = regressor.predict(X_test)\n",
    "print('Score:',sklearn.metrics.r2_score(y_test,y_pred))"
   ]
  },
  {
   "cell_type": "markdown",
   "metadata": {},
   "source": [
    "A base line, sem normalização e sem redução de dimensionalidade segue sendo a melhor proposta para esse algoritmo"
   ]
  },
  {
   "cell_type": "markdown",
   "metadata": {},
   "source": [
    "#### 3.4) **(10%)** Tunning - Agora que temos um resultado promissor, vamos tentar melhorar o resultado alterando um ou mais hiper-parametro. Compare os resultados."
   ]
  },
  {
   "cell_type": "code",
   "execution_count": 367,
   "metadata": {},
   "outputs": [],
   "source": [
    "base_df_linear_f = pd.DataFrame.copy(data)"
   ]
  },
  {
   "cell_type": "code",
   "execution_count": 368,
   "metadata": {},
   "outputs": [
    {
     "name": "stdout",
     "output_type": "stream",
     "text": [
      "Score: 0.323434740334\n"
     ]
    }
   ],
   "source": [
    "X = base_df_linear_f.iloc[0:,0:54]\n",
    "y = base_df_linear_f.iloc[0:,54]\n",
    "X_train, X_test, y_train, y_test = train_test_split(X, y, test_size=0.2, random_state=0)\n",
    "regressor = LinearRegression()  \n",
    "regressor.fit(X_train, y_train)\n",
    "y_pred = regressor.predict(X_test)\n",
    "print('Score:',sklearn.metrics.r2_score(y_test,y_pred))"
   ]
  },
  {
   "cell_type": "code",
   "execution_count": 369,
   "metadata": {},
   "outputs": [
    {
     "name": "stdout",
     "output_type": "stream",
     "text": [
      "Score: 0.316501875774\n"
     ]
    }
   ],
   "source": [
    "X = base_df_linear_f.iloc[0:,0:54]\n",
    "y = base_df_linear_f.iloc[0:,54]\n",
    "X_train, X_test, y_train, y_test = train_test_split(X, y, test_size=0.2, random_state=1)\n",
    "regressor = LinearRegression()  \n",
    "regressor.fit(X_train, y_train)\n",
    "y_pred = regressor.predict(X_test)\n",
    "print('Score:',sklearn.metrics.r2_score(y_test,y_pred))"
   ]
  },
  {
   "cell_type": "code",
   "execution_count": 370,
   "metadata": {},
   "outputs": [
    {
     "name": "stdout",
     "output_type": "stream",
     "text": [
      "Score: 0.320621820269\n"
     ]
    }
   ],
   "source": [
    "X = base_df_linear_f.iloc[0:,0:54]\n",
    "y = base_df_linear_f.iloc[0:,54]\n",
    "X_train, X_test, y_train, y_test = train_test_split(X, y, test_size=0.2, random_state=2)\n",
    "regressor = LinearRegression()  \n",
    "regressor.fit(X_train, y_train)\n",
    "y_pred = regressor.predict(X_test)\n",
    "print('Score:',sklearn.metrics.r2_score(y_test,y_pred))"
   ]
  },
  {
   "cell_type": "code",
   "execution_count": 371,
   "metadata": {},
   "outputs": [
    {
     "name": "stdout",
     "output_type": "stream",
     "text": [
      "Score: 0.319947759201\n"
     ]
    }
   ],
   "source": [
    "X = base_df_linear_f.iloc[0:,0:54]\n",
    "y = base_df_linear_f.iloc[0:,54]\n",
    "X_train, X_test, y_train, y_test = train_test_split(X, y, test_size=0.2, random_state=3)\n",
    "regressor = LinearRegression()  \n",
    "regressor.fit(X_train, y_train)\n",
    "y_pred = regressor.predict(X_test)\n",
    "print('Score:',sklearn.metrics.r2_score(y_test,y_pred))"
   ]
  },
  {
   "cell_type": "code",
   "execution_count": 372,
   "metadata": {},
   "outputs": [
    {
     "name": "stdout",
     "output_type": "stream",
     "text": [
      "Score: 0.32041652249\n"
     ]
    }
   ],
   "source": [
    "X = base_df_linear_f.iloc[0:,0:54]\n",
    "y = base_df_linear_f.iloc[0:,54]\n",
    "X_train, X_test, y_train, y_test = train_test_split(X, y, test_size=0.2, random_state=4)\n",
    "regressor = LinearRegression()  \n",
    "regressor.fit(X_train, y_train)\n",
    "y_pred = regressor.predict(X_test)\n",
    "print('Score:',sklearn.metrics.r2_score(y_test,y_pred))"
   ]
  },
  {
   "cell_type": "code",
   "execution_count": 373,
   "metadata": {},
   "outputs": [
    {
     "name": "stdout",
     "output_type": "stream",
     "text": [
      "Score: 0.318493412754\n"
     ]
    }
   ],
   "source": [
    "X = base_df_linear_f.iloc[0:,0:54]\n",
    "y = base_df_linear_f.iloc[0:,54]\n",
    "X_train, X_test, y_train, y_test = train_test_split(X, y, test_size=0.2, random_state=5)\n",
    "regressor = LinearRegression()  \n",
    "regressor.fit(X_train, y_train)\n",
    "y_pred = regressor.predict(X_test)\n",
    "print('Score:',sklearn.metrics.r2_score(y_test,y_pred))"
   ]
  },
  {
   "cell_type": "code",
   "execution_count": 374,
   "metadata": {},
   "outputs": [
    {
     "name": "stdout",
     "output_type": "stream",
     "text": [
      "Score: 0.326957277016\n"
     ]
    }
   ],
   "source": [
    "X = base_df_linear_f.iloc[0:,0:54]\n",
    "y = base_df_linear_f.iloc[0:,54]\n",
    "X_train, X_test, y_train, y_test = train_test_split(X, y, test_size=0.1, random_state=0)\n",
    "regressor = LinearRegression()  \n",
    "regressor.fit(X_train, y_train)\n",
    "y_pred = regressor.predict(X_test)\n",
    "print('Score:',sklearn.metrics.r2_score(y_test,y_pred))"
   ]
  },
  {
   "cell_type": "code",
   "execution_count": 375,
   "metadata": {},
   "outputs": [
    {
     "name": "stdout",
     "output_type": "stream",
     "text": [
      "Score: 0.323434740334\n"
     ]
    }
   ],
   "source": [
    "X = base_df_linear_f.iloc[0:,0:54]\n",
    "y = base_df_linear_f.iloc[0:,54]\n",
    "X_train, X_test, y_train, y_test = train_test_split(X, y, test_size=0.2, random_state=0)\n",
    "regressor = LinearRegression()  \n",
    "regressor.fit(X_train, y_train)\n",
    "y_pred = regressor.predict(X_test)\n",
    "print('Score:',sklearn.metrics.r2_score(y_test,y_pred))"
   ]
  },
  {
   "cell_type": "code",
   "execution_count": 376,
   "metadata": {},
   "outputs": [
    {
     "name": "stdout",
     "output_type": "stream",
     "text": [
      "Score: 0.320378851477\n"
     ]
    }
   ],
   "source": [
    "X = base_df_linear_f.iloc[0:,0:54]\n",
    "y = base_df_linear_f.iloc[0:,54]\n",
    "X_train, X_test, y_train, y_test = train_test_split(X, y, test_size=0.3, random_state=0)\n",
    "regressor = LinearRegression()  \n",
    "regressor.fit(X_train, y_train)\n",
    "y_pred = regressor.predict(X_test)\n",
    "print('Score:',sklearn.metrics.r2_score(y_test,y_pred))"
   ]
  },
  {
   "cell_type": "code",
   "execution_count": 377,
   "metadata": {},
   "outputs": [
    {
     "name": "stdout",
     "output_type": "stream",
     "text": [
      "Score: 0.319658209109\n"
     ]
    }
   ],
   "source": [
    "X = base_df_linear_f.iloc[0:,0:54]\n",
    "y = base_df_linear_f.iloc[0:,54]\n",
    "X_train, X_test, y_train, y_test = train_test_split(X, y, test_size=0.4, random_state=0)\n",
    "regressor = LinearRegression()  \n",
    "regressor.fit(X_train, y_train)\n",
    "y_pred = regressor.predict(X_test)\n",
    "print('Score:',sklearn.metrics.r2_score(y_test,y_pred))"
   ]
  },
  {
   "cell_type": "code",
   "execution_count": 378,
   "metadata": {},
   "outputs": [
    {
     "name": "stdout",
     "output_type": "stream",
     "text": [
      "Score: 0.319323790339\n"
     ]
    }
   ],
   "source": [
    "X = base_df_linear_f.iloc[0:,0:54]\n",
    "y = base_df_linear_f.iloc[0:,54]\n",
    "X_train, X_test, y_train, y_test = train_test_split(X, y, test_size=0.5, random_state=0)\n",
    "regressor = LinearRegression()  \n",
    "regressor.fit(X_train, y_train)\n",
    "y_pred = regressor.predict(X_test)\n",
    "print('Score:',sklearn.metrics.r2_score(y_test,y_pred))"
   ]
  },
  {
   "cell_type": "code",
   "execution_count": 379,
   "metadata": {},
   "outputs": [
    {
     "name": "stdout",
     "output_type": "stream",
     "text": [
      "Score: 0.326957277016\n"
     ]
    }
   ],
   "source": [
    "X = base_df_linear_f.iloc[0:,0:54]\n",
    "y = base_df_linear_f.iloc[0:,54]\n",
    "X_train, X_test, y_train, y_test = train_test_split(X, y, test_size=0.1, random_state=0)\n",
    "regressor = LinearRegression()  \n",
    "regressor.fit(X_train, y_train)\n",
    "y_pred = regressor.predict(X_test)\n",
    "print('Score:',sklearn.metrics.r2_score(y_test,y_pred))"
   ]
  },
  {
   "cell_type": "code",
   "execution_count": 380,
   "metadata": {},
   "outputs": [
    {
     "name": "stdout",
     "output_type": "stream",
     "text": [
      "Score: 0.3273851719\n"
     ]
    }
   ],
   "source": [
    "X = base_df_linear_f.iloc[0:,0:54]\n",
    "y = base_df_linear_f.iloc[0:,54]\n",
    "X_train, X_test, y_train, y_test = train_test_split(X, y, test_size=0.09, random_state=0)\n",
    "regressor = LinearRegression()  \n",
    "regressor.fit(X_train, y_train)\n",
    "y_pred = regressor.predict(X_test)\n",
    "print('Score:',sklearn.metrics.r2_score(y_test,y_pred))"
   ]
  },
  {
   "cell_type": "code",
   "execution_count": 381,
   "metadata": {},
   "outputs": [
    {
     "name": "stdout",
     "output_type": "stream",
     "text": [
      "Score: 0.327688573151\n"
     ]
    }
   ],
   "source": [
    "X = base_df_linear_f.iloc[0:,0:54]\n",
    "y = base_df_linear_f.iloc[0:,54]\n",
    "X_train, X_test, y_train, y_test = train_test_split(X, y, test_size=0.08, random_state=0)\n",
    "regressor = LinearRegression()  \n",
    "regressor.fit(X_train, y_train)\n",
    "y_pred = regressor.predict(X_test)\n",
    "print('Score:',sklearn.metrics.r2_score(y_test,y_pred))"
   ]
  },
  {
   "cell_type": "code",
   "execution_count": 382,
   "metadata": {},
   "outputs": [
    {
     "name": "stdout",
     "output_type": "stream",
     "text": [
      "Score: 0.328605980294\n"
     ]
    }
   ],
   "source": [
    "X = base_df_linear_f.iloc[0:,0:54]\n",
    "y = base_df_linear_f.iloc[0:,54]\n",
    "X_train, X_test, y_train, y_test = train_test_split(X, y, test_size=0.07, random_state=0)\n",
    "regressor = LinearRegression()  \n",
    "regressor.fit(X_train, y_train)\n",
    "y_pred = regressor.predict(X_test)\n",
    "print('Score:',sklearn.metrics.r2_score(y_test,y_pred))"
   ]
  },
  {
   "cell_type": "code",
   "execution_count": 383,
   "metadata": {},
   "outputs": [
    {
     "name": "stdout",
     "output_type": "stream",
     "text": [
      "Score: 0.329690376235\n"
     ]
    }
   ],
   "source": [
    "X = base_df_linear_f.iloc[0:,0:54]\n",
    "y = base_df_linear_f.iloc[0:,54]\n",
    "X_train, X_test, y_train, y_test = train_test_split(X, y, test_size=0.06, random_state=0)\n",
    "regressor = LinearRegression()  \n",
    "regressor.fit(X_train, y_train)\n",
    "y_pred = regressor.predict(X_test)\n",
    "print('Score:',sklearn.metrics.r2_score(y_test,y_pred))"
   ]
  },
  {
   "cell_type": "code",
   "execution_count": 384,
   "metadata": {},
   "outputs": [
    {
     "name": "stdout",
     "output_type": "stream",
     "text": [
      "Score: 0.329551902566\n"
     ]
    }
   ],
   "source": [
    "X = base_df_linear_f.iloc[0:,0:54]\n",
    "y = base_df_linear_f.iloc[0:,54]\n",
    "X_train, X_test, y_train, y_test = train_test_split(X, y, test_size=0.05, random_state=0)\n",
    "regressor = LinearRegression()  \n",
    "regressor.fit(X_train, y_train)\n",
    "y_pred = regressor.predict(X_test)\n",
    "print('Score:',sklearn.metrics.r2_score(y_test,y_pred))"
   ]
  },
  {
   "cell_type": "code",
   "execution_count": 385,
   "metadata": {},
   "outputs": [
    {
     "name": "stdout",
     "output_type": "stream",
     "text": [
      "Score: 0.32952472058\n"
     ]
    }
   ],
   "source": [
    "X = base_df_linear_f.iloc[0:,0:54]\n",
    "y = base_df_linear_f.iloc[0:,54]\n",
    "X_train, X_test, y_train, y_test = train_test_split(X, y, test_size=0.04, random_state=0)\n",
    "regressor = LinearRegression()  \n",
    "regressor.fit(X_train, y_train)\n",
    "y_pred = regressor.predict(X_test)\n",
    "print('Score:',sklearn.metrics.r2_score(y_test,y_pred))"
   ]
  },
  {
   "cell_type": "code",
   "execution_count": 386,
   "metadata": {},
   "outputs": [
    {
     "name": "stdout",
     "output_type": "stream",
     "text": [
      "Score: 0.33519308508\n"
     ]
    }
   ],
   "source": [
    "X = base_df_linear_f.iloc[0:,0:54]\n",
    "y = base_df_linear_f.iloc[0:,54]\n",
    "X_train, X_test, y_train, y_test = train_test_split(X, y, test_size=0.03, random_state=0)\n",
    "regressor = LinearRegression()  \n",
    "regressor.fit(X_train, y_train)\n",
    "y_pred = regressor.predict(X_test)\n",
    "print('Score:',sklearn.metrics.r2_score(y_test,y_pred))"
   ]
  },
  {
   "cell_type": "code",
   "execution_count": 387,
   "metadata": {},
   "outputs": [
    {
     "name": "stdout",
     "output_type": "stream",
     "text": [
      "Score: 0.342112334937\n"
     ]
    }
   ],
   "source": [
    "X = base_df_linear_f.iloc[0:,0:54]\n",
    "y = base_df_linear_f.iloc[0:,54]\n",
    "X_train, X_test, y_train, y_test = train_test_split(X, y, test_size=0.02, random_state=0)\n",
    "regressor = LinearRegression()  \n",
    "regressor.fit(X_train, y_train)\n",
    "y_pred = regressor.predict(X_test)\n",
    "print('Score:',sklearn.metrics.r2_score(y_test,y_pred))"
   ]
  },
  {
   "cell_type": "code",
   "execution_count": 388,
   "metadata": {},
   "outputs": [
    {
     "name": "stdout",
     "output_type": "stream",
     "text": [
      "Score: 0.334219389637\n"
     ]
    }
   ],
   "source": [
    "X = base_df_linear_f.iloc[0:,0:54]\n",
    "y = base_df_linear_f.iloc[0:,54]\n",
    "X_train, X_test, y_train, y_test = train_test_split(X, y, test_size=0.01, random_state=0)\n",
    "regressor = LinearRegression()  \n",
    "regressor.fit(X_train, y_train)\n",
    "y_pred = regressor.predict(X_test)\n",
    "print('Score:',sklearn.metrics.r2_score(y_test,y_pred))"
   ]
  },
  {
   "cell_type": "markdown",
   "metadata": {},
   "source": [
    "O melhot resultado deste algoritimo foi um Score de 0.342112334937 com test_size=0.02, random_state=0"
   ]
  },
  {
   "cell_type": "markdown",
   "metadata": {},
   "source": [
    "#### 3.5) Qual método escolhido?"
   ]
  },
  {
   "cell_type": "markdown",
   "metadata": {},
   "source": [
    "Arvore de decisão "
   ]
  },
  {
   "cell_type": "markdown",
   "metadata": {},
   "source": [
    "#### 3.6) **(10%)** Baseline - Implemente seu classificador da forma mais simples possível para esse ser seu baseline"
   ]
  },
  {
   "cell_type": "code",
   "execution_count": 389,
   "metadata": {},
   "outputs": [],
   "source": [
    "base_df_tree = pd.DataFrame(data)"
   ]
  },
  {
   "cell_type": "code",
   "execution_count": 390,
   "metadata": {},
   "outputs": [],
   "source": [
    "model = tree.DecisionTreeClassifier(random_state=0)"
   ]
  },
  {
   "cell_type": "code",
   "execution_count": 391,
   "metadata": {},
   "outputs": [
    {
     "name": "stdout",
     "output_type": "stream",
     "text": [
      "0.592135119979\n",
      "14.190329551696777\n"
     ]
    }
   ],
   "source": [
    "t1 = time.time()\n",
    "X = base_df_tree.iloc[0:,0:54]\n",
    "y = base_df_tree.iloc[0:,54]\n",
    "print(cross_val_score(model, X, y, cv=10,n_jobs=-2).mean())\n",
    "t2 = time.time()\n",
    "print(t2-t1)"
   ]
  },
  {
   "cell_type": "markdown",
   "metadata": {},
   "source": [
    "#### 3.7) **(20%)** Versão 1 - O que podemos fazer para melhorar nosso baseline? Aplique técnicas como redução de dimensionalidade, normalização ou outras. Compare os resultados."
   ]
  },
  {
   "cell_type": "code",
   "execution_count": 392,
   "metadata": {},
   "outputs": [],
   "source": [
    "base_df_tree2 = base_df_tree.drop(base_df_tree.loc[:, 'Wilderness_Area_1':'Cover_Type'].columns, axis = 1)"
   ]
  },
  {
   "cell_type": "code",
   "execution_count": 393,
   "metadata": {},
   "outputs": [],
   "source": [
    "base_df_tree2_1 = pd.DataFrame.copy(base_df_tree2)\n",
    "base_df_tree2_2 = pd.DataFrame.copy(base_df_tree2)\n",
    "base_df_tree2_3 = pd.DataFrame.copy(base_df_tree2)\n",
    "Wilderness_Area_Bruto = pd.DataFrame.copy(data.iloc[0:,10:14])\n",
    "Soil_Type_Bruto = pd.DataFrame.copy(data.iloc[0:,14:54])\n",
    "Cover_Type = pd.DataFrame.copy(data.iloc[0:,54])"
   ]
  },
  {
   "cell_type": "code",
   "execution_count": 394,
   "metadata": {},
   "outputs": [],
   "source": [
    "base_df_tree2_1 = pd.concat([base_df_tree2, Wilderness_Area, Soil_Type, Cover_Type], axis=1)\n",
    "base_df_tree2_2 = pd.concat([base_df_tree2, Wilderness_Area_Bruto, Soil_Type, Cover_Type], axis=1)\n",
    "base_df_tree2_3 = pd.concat([base_df_tree2, Wilderness_Area, Soil_Type_Bruto, Cover_Type], axis=1)"
   ]
  },
  {
   "cell_type": "code",
   "execution_count": 395,
   "metadata": {},
   "outputs": [
    {
     "name": "stdout",
     "output_type": "stream",
     "text": [
      "0.585383165831\n",
      "9.429008960723877\n"
     ]
    }
   ],
   "source": [
    "t1 = time.time()\n",
    "model = tree.DecisionTreeClassifier(random_state=0)\n",
    "X = base_df_tree2_1.iloc[0:,0:12]\n",
    "y = base_df_tree2_1.iloc[0:,12]\n",
    "print(cross_val_score(model, X, y, cv=10,n_jobs=-2).mean())\n",
    "t2 = time.time()\n",
    "print(t2-t1)"
   ]
  },
  {
   "cell_type": "code",
   "execution_count": 396,
   "metadata": {},
   "outputs": [
    {
     "name": "stdout",
     "output_type": "stream",
     "text": [
      "0.593797862028\n",
      "8.675210952758789\n"
     ]
    }
   ],
   "source": [
    "t1 = time.time()\n",
    "model = tree.DecisionTreeClassifier(random_state=0)\n",
    "X = base_df_tree2_2.iloc[0:,0:15]\n",
    "y = base_df_tree2_2.iloc[0:,15]\n",
    "print(cross_val_score(model, X, y, cv=10,n_jobs=-2).mean())\n",
    "t2 = time.time()\n",
    "print(t2-t1)"
   ]
  },
  {
   "cell_type": "code",
   "execution_count": 397,
   "metadata": {},
   "outputs": [
    {
     "name": "stdout",
     "output_type": "stream",
     "text": [
      "0.587771896592\n",
      "12.143720865249634\n"
     ]
    }
   ],
   "source": [
    "t1 = time.time()\n",
    "model = tree.DecisionTreeClassifier(random_state=0)\n",
    "X = base_df_tree2_3.iloc[0:,0:51]\n",
    "y = base_df_tree2_3.iloc[0:,51]\n",
    "print(cross_val_score(model, X, y, cv=10,n_jobs=-2).mean())\n",
    "t2 = time.time()\n",
    "print(t2-t1)"
   ]
  },
  {
   "cell_type": "code",
   "execution_count": 398,
   "metadata": {},
   "outputs": [
    {
     "data": {
      "text/plain": [
       "Index(['Elevation', 'Aspect', 'Slope', 'Horizontal_Distance_To_Hydrology',\n",
       "       'Vertical_Distance_To_Hydrology', 'Horizontal_Distance_To_Roadways',\n",
       "       'Hillshade_9am', 'Hillshade_Noon', 'Hillshade_3pm',\n",
       "       'Horizontal_Distance_To_Fire_Points', 'Wilderness_Area_1',\n",
       "       'Wilderness_Area_2', 'Wilderness_Area_3', 'Wilderness_Area_4',\n",
       "       'Soil_Type', 'Cover_Type'],\n",
       "      dtype='object')"
      ]
     },
     "execution_count": 398,
     "metadata": {},
     "output_type": "execute_result"
    }
   ],
   "source": [
    "# modelo com o melhor resultado ate o momento foi o da base base_df_tree2_2, vamos tentar mais algumas modificações.\n",
    "base_df_tree2_2.columns"
   ]
  },
  {
   "cell_type": "code",
   "execution_count": 399,
   "metadata": {},
   "outputs": [],
   "source": [
    "for i in base_df_tree2_2.index:\n",
    "    base_df_tree2_2.at[i, 'Elevation'] = round(((base_df_tree2_2.at[i, 'Elevation']-1859)/200),0)\n",
    "    base_df_tree2_2.at[i, 'Horizontal_Distance_To_Hydrology'] = round(((base_df_tree2_2.at[i, 'Horizontal_Distance_To_Hydrology']-0)/140),0)\n",
    "    base_df_tree2_2.at[i, 'Vertical_Distance_To_Hydrology'] = round(((base_df_tree2_2.at[i, 'Vertical_Distance_To_Hydrology']--173)/77),0)\n",
    "    base_df_tree2_2.at[i, 'Horizontal_Distance_To_Roadways'] = round(((base_df_tree2_2.at[i, 'Horizontal_Distance_To_Roadways']-0)/712),0)\n",
    "    base_df_tree2_2.at[i, 'Horizontal_Distance_To_Fire_Points'] = round(((base_df_tree2_2.at[i, 'Horizontal_Distance_To_Fire_Points']-0)/717),0)"
   ]
  },
  {
   "cell_type": "code",
   "execution_count": 400,
   "metadata": {},
   "outputs": [
    {
     "data": {
      "text/plain": [
       "array([ 4,  5,  3,  6,  7,  8,  1,  2,  0,  9, 10], dtype=int64)"
      ]
     },
     "execution_count": 400,
     "metadata": {},
     "output_type": "execute_result"
    }
   ],
   "source": [
    "pd.unique(base_df_tree2_2[['Elevation','Horizontal_Distance_To_Hydrology','Vertical_Distance_To_Hydrology','Horizontal_Distance_To_Roadways','Horizontal_Distance_To_Fire_Points']].values.ravel('K'))\n",
    "#Todas as colunas de informações em metros foram categorizadas em 10 grupos"
   ]
  },
  {
   "cell_type": "code",
   "execution_count": 401,
   "metadata": {},
   "outputs": [
    {
     "name": "stdout",
     "output_type": "stream",
     "text": [
      "0.565492171815\n",
      "5.977886199951172\n"
     ]
    }
   ],
   "source": [
    "t1 = time.time()\n",
    "model = tree.DecisionTreeClassifier(random_state=0)\n",
    "X = base_df_tree2_2.iloc[0:,0:15]\n",
    "y = base_df_tree2_2.iloc[0:,15]\n",
    "print(cross_val_score(model, X, y, cv=10,n_jobs=-2).mean())\n",
    "t2 = time.time()\n",
    "print(t2-t1)"
   ]
  },
  {
   "cell_type": "code",
   "execution_count": 402,
   "metadata": {},
   "outputs": [
    {
     "data": {
      "text/html": [
       "<div>\n",
       "<style scoped>\n",
       "    .dataframe tbody tr th:only-of-type {\n",
       "        vertical-align: middle;\n",
       "    }\n",
       "\n",
       "    .dataframe tbody tr th {\n",
       "        vertical-align: top;\n",
       "    }\n",
       "\n",
       "    .dataframe thead th {\n",
       "        text-align: right;\n",
       "    }\n",
       "</style>\n",
       "<table border=\"1\" class=\"dataframe\">\n",
       "  <thead>\n",
       "    <tr style=\"text-align: right;\">\n",
       "      <th></th>\n",
       "      <th>Elevation</th>\n",
       "      <th>Aspect</th>\n",
       "      <th>Slope</th>\n",
       "      <th>Horizontal_Distance_To_Hydrology</th>\n",
       "      <th>Vertical_Distance_To_Hydrology</th>\n",
       "      <th>Horizontal_Distance_To_Roadways</th>\n",
       "      <th>Hillshade_9am</th>\n",
       "      <th>Hillshade_Noon</th>\n",
       "      <th>Hillshade_3pm</th>\n",
       "      <th>Horizontal_Distance_To_Fire_Points</th>\n",
       "      <th>Wilderness_Area_1</th>\n",
       "      <th>Wilderness_Area_2</th>\n",
       "      <th>Wilderness_Area_3</th>\n",
       "      <th>Wilderness_Area_4</th>\n",
       "      <th>Soil_Type</th>\n",
       "      <th>Cover_Type</th>\n",
       "    </tr>\n",
       "  </thead>\n",
       "  <tbody>\n",
       "    <tr>\n",
       "      <th>0</th>\n",
       "      <td>2596</td>\n",
       "      <td>51</td>\n",
       "      <td>3</td>\n",
       "      <td>258</td>\n",
       "      <td>0</td>\n",
       "      <td>510</td>\n",
       "      <td>221</td>\n",
       "      <td>232</td>\n",
       "      <td>148</td>\n",
       "      <td>6279</td>\n",
       "      <td>1</td>\n",
       "      <td>0</td>\n",
       "      <td>0</td>\n",
       "      <td>0</td>\n",
       "      <td>29</td>\n",
       "      <td>5</td>\n",
       "    </tr>\n",
       "    <tr>\n",
       "      <th>1</th>\n",
       "      <td>2590</td>\n",
       "      <td>56</td>\n",
       "      <td>2</td>\n",
       "      <td>212</td>\n",
       "      <td>-6</td>\n",
       "      <td>390</td>\n",
       "      <td>220</td>\n",
       "      <td>235</td>\n",
       "      <td>151</td>\n",
       "      <td>6225</td>\n",
       "      <td>1</td>\n",
       "      <td>0</td>\n",
       "      <td>0</td>\n",
       "      <td>0</td>\n",
       "      <td>29</td>\n",
       "      <td>5</td>\n",
       "    </tr>\n",
       "    <tr>\n",
       "      <th>2</th>\n",
       "      <td>2804</td>\n",
       "      <td>139</td>\n",
       "      <td>9</td>\n",
       "      <td>268</td>\n",
       "      <td>65</td>\n",
       "      <td>3180</td>\n",
       "      <td>234</td>\n",
       "      <td>238</td>\n",
       "      <td>135</td>\n",
       "      <td>6121</td>\n",
       "      <td>1</td>\n",
       "      <td>0</td>\n",
       "      <td>0</td>\n",
       "      <td>0</td>\n",
       "      <td>12</td>\n",
       "      <td>2</td>\n",
       "    </tr>\n",
       "    <tr>\n",
       "      <th>3</th>\n",
       "      <td>2785</td>\n",
       "      <td>155</td>\n",
       "      <td>18</td>\n",
       "      <td>242</td>\n",
       "      <td>118</td>\n",
       "      <td>3090</td>\n",
       "      <td>238</td>\n",
       "      <td>238</td>\n",
       "      <td>122</td>\n",
       "      <td>6211</td>\n",
       "      <td>1</td>\n",
       "      <td>0</td>\n",
       "      <td>0</td>\n",
       "      <td>0</td>\n",
       "      <td>30</td>\n",
       "      <td>2</td>\n",
       "    </tr>\n",
       "    <tr>\n",
       "      <th>4</th>\n",
       "      <td>2595</td>\n",
       "      <td>45</td>\n",
       "      <td>2</td>\n",
       "      <td>153</td>\n",
       "      <td>-1</td>\n",
       "      <td>391</td>\n",
       "      <td>220</td>\n",
       "      <td>234</td>\n",
       "      <td>150</td>\n",
       "      <td>6172</td>\n",
       "      <td>1</td>\n",
       "      <td>0</td>\n",
       "      <td>0</td>\n",
       "      <td>0</td>\n",
       "      <td>29</td>\n",
       "      <td>5</td>\n",
       "    </tr>\n",
       "    <tr>\n",
       "      <th>...</th>\n",
       "      <td>...</td>\n",
       "      <td>...</td>\n",
       "      <td>...</td>\n",
       "      <td>...</td>\n",
       "      <td>...</td>\n",
       "      <td>...</td>\n",
       "      <td>...</td>\n",
       "      <td>...</td>\n",
       "      <td>...</td>\n",
       "      <td>...</td>\n",
       "      <td>...</td>\n",
       "      <td>...</td>\n",
       "      <td>...</td>\n",
       "      <td>...</td>\n",
       "      <td>...</td>\n",
       "      <td>...</td>\n",
       "    </tr>\n",
       "    <tr>\n",
       "      <th>581007</th>\n",
       "      <td>2396</td>\n",
       "      <td>153</td>\n",
       "      <td>20</td>\n",
       "      <td>85</td>\n",
       "      <td>17</td>\n",
       "      <td>108</td>\n",
       "      <td>240</td>\n",
       "      <td>237</td>\n",
       "      <td>118</td>\n",
       "      <td>837</td>\n",
       "      <td>0</td>\n",
       "      <td>0</td>\n",
       "      <td>1</td>\n",
       "      <td>0</td>\n",
       "      <td>2</td>\n",
       "      <td>3</td>\n",
       "    </tr>\n",
       "    <tr>\n",
       "      <th>581008</th>\n",
       "      <td>2391</td>\n",
       "      <td>152</td>\n",
       "      <td>19</td>\n",
       "      <td>67</td>\n",
       "      <td>12</td>\n",
       "      <td>95</td>\n",
       "      <td>240</td>\n",
       "      <td>237</td>\n",
       "      <td>119</td>\n",
       "      <td>845</td>\n",
       "      <td>0</td>\n",
       "      <td>0</td>\n",
       "      <td>1</td>\n",
       "      <td>0</td>\n",
       "      <td>2</td>\n",
       "      <td>3</td>\n",
       "    </tr>\n",
       "    <tr>\n",
       "      <th>581009</th>\n",
       "      <td>2386</td>\n",
       "      <td>159</td>\n",
       "      <td>17</td>\n",
       "      <td>60</td>\n",
       "      <td>7</td>\n",
       "      <td>90</td>\n",
       "      <td>236</td>\n",
       "      <td>241</td>\n",
       "      <td>130</td>\n",
       "      <td>854</td>\n",
       "      <td>0</td>\n",
       "      <td>0</td>\n",
       "      <td>1</td>\n",
       "      <td>0</td>\n",
       "      <td>2</td>\n",
       "      <td>3</td>\n",
       "    </tr>\n",
       "    <tr>\n",
       "      <th>581010</th>\n",
       "      <td>2384</td>\n",
       "      <td>170</td>\n",
       "      <td>15</td>\n",
       "      <td>60</td>\n",
       "      <td>5</td>\n",
       "      <td>90</td>\n",
       "      <td>230</td>\n",
       "      <td>245</td>\n",
       "      <td>143</td>\n",
       "      <td>864</td>\n",
       "      <td>0</td>\n",
       "      <td>0</td>\n",
       "      <td>1</td>\n",
       "      <td>0</td>\n",
       "      <td>2</td>\n",
       "      <td>3</td>\n",
       "    </tr>\n",
       "    <tr>\n",
       "      <th>581011</th>\n",
       "      <td>2383</td>\n",
       "      <td>165</td>\n",
       "      <td>13</td>\n",
       "      <td>60</td>\n",
       "      <td>4</td>\n",
       "      <td>67</td>\n",
       "      <td>231</td>\n",
       "      <td>244</td>\n",
       "      <td>141</td>\n",
       "      <td>875</td>\n",
       "      <td>0</td>\n",
       "      <td>0</td>\n",
       "      <td>1</td>\n",
       "      <td>0</td>\n",
       "      <td>2</td>\n",
       "      <td>3</td>\n",
       "    </tr>\n",
       "  </tbody>\n",
       "</table>\n",
       "<p>581012 rows × 16 columns</p>\n",
       "</div>"
      ],
      "text/plain": [
       "        Elevation  Aspect  Slope  Horizontal_Distance_To_Hydrology  \\\n",
       "0            2596      51      3                               258   \n",
       "1            2590      56      2                               212   \n",
       "2            2804     139      9                               268   \n",
       "3            2785     155     18                               242   \n",
       "4            2595      45      2                               153   \n",
       "...           ...     ...    ...                               ...   \n",
       "581007       2396     153     20                                85   \n",
       "581008       2391     152     19                                67   \n",
       "581009       2386     159     17                                60   \n",
       "581010       2384     170     15                                60   \n",
       "581011       2383     165     13                                60   \n",
       "\n",
       "        Vertical_Distance_To_Hydrology  Horizontal_Distance_To_Roadways  \\\n",
       "0                                    0                              510   \n",
       "1                                   -6                              390   \n",
       "2                                   65                             3180   \n",
       "3                                  118                             3090   \n",
       "4                                   -1                              391   \n",
       "...                                ...                              ...   \n",
       "581007                              17                              108   \n",
       "581008                              12                               95   \n",
       "581009                               7                               90   \n",
       "581010                               5                               90   \n",
       "581011                               4                               67   \n",
       "\n",
       "        Hillshade_9am  Hillshade_Noon  Hillshade_3pm  \\\n",
       "0                 221             232            148   \n",
       "1                 220             235            151   \n",
       "2                 234             238            135   \n",
       "3                 238             238            122   \n",
       "4                 220             234            150   \n",
       "...               ...             ...            ...   \n",
       "581007            240             237            118   \n",
       "581008            240             237            119   \n",
       "581009            236             241            130   \n",
       "581010            230             245            143   \n",
       "581011            231             244            141   \n",
       "\n",
       "        Horizontal_Distance_To_Fire_Points  Wilderness_Area_1  \\\n",
       "0                                     6279                  1   \n",
       "1                                     6225                  1   \n",
       "2                                     6121                  1   \n",
       "3                                     6211                  1   \n",
       "4                                     6172                  1   \n",
       "...                                    ...                ...   \n",
       "581007                                 837                  0   \n",
       "581008                                 845                  0   \n",
       "581009                                 854                  0   \n",
       "581010                                 864                  0   \n",
       "581011                                 875                  0   \n",
       "\n",
       "        Wilderness_Area_2  Wilderness_Area_3  Wilderness_Area_4  Soil_Type  \\\n",
       "0                       0                  0                  0         29   \n",
       "1                       0                  0                  0         29   \n",
       "2                       0                  0                  0         12   \n",
       "3                       0                  0                  0         30   \n",
       "4                       0                  0                  0         29   \n",
       "...                   ...                ...                ...        ...   \n",
       "581007                  0                  1                  0          2   \n",
       "581008                  0                  1                  0          2   \n",
       "581009                  0                  1                  0          2   \n",
       "581010                  0                  1                  0          2   \n",
       "581011                  0                  1                  0          2   \n",
       "\n",
       "        Cover_Type  \n",
       "0                5  \n",
       "1                5  \n",
       "2                2  \n",
       "3                2  \n",
       "4                5  \n",
       "...            ...  \n",
       "581007           3  \n",
       "581008           3  \n",
       "581009           3  \n",
       "581010           3  \n",
       "581011           3  \n",
       "\n",
       "[581012 rows x 16 columns]"
      ]
     },
     "execution_count": 402,
     "metadata": {},
     "output_type": "execute_result"
    }
   ],
   "source": [
    "#Não deu muito certo, vamos voltar atraz e tentar a normalização\n",
    "base_df_tree2_2 = pd.DataFrame.copy(base_df_tree2)\n",
    "base_df_tree2_2 = pd.concat([base_df_tree2, Wilderness_Area_Bruto, Soil_Type, Cover_Type], axis=1)\n",
    "base_df_tree2_2"
   ]
  },
  {
   "cell_type": "code",
   "execution_count": 403,
   "metadata": {},
   "outputs": [
    {
     "data": {
      "text/html": [
       "<div>\n",
       "<style scoped>\n",
       "    .dataframe tbody tr th:only-of-type {\n",
       "        vertical-align: middle;\n",
       "    }\n",
       "\n",
       "    .dataframe tbody tr th {\n",
       "        vertical-align: top;\n",
       "    }\n",
       "\n",
       "    .dataframe thead th {\n",
       "        text-align: right;\n",
       "    }\n",
       "</style>\n",
       "<table border=\"1\" class=\"dataframe\">\n",
       "  <thead>\n",
       "    <tr style=\"text-align: right;\">\n",
       "      <th></th>\n",
       "      <th>Elevation</th>\n",
       "      <th>Horizontal_Distance_To_Hydrology</th>\n",
       "      <th>Vertical_Distance_To_Hydrology</th>\n",
       "      <th>Horizontal_Distance_To_Roadways</th>\n",
       "      <th>Horizontal_Distance_To_Fire_Points</th>\n",
       "    </tr>\n",
       "  </thead>\n",
       "  <tbody>\n",
       "    <tr>\n",
       "      <th>0</th>\n",
       "      <td>0.672888</td>\n",
       "      <td>0.184681</td>\n",
       "      <td>0.000000</td>\n",
       "      <td>0.071659</td>\n",
       "      <td>0.875366</td>\n",
       "    </tr>\n",
       "    <tr>\n",
       "      <th>1</th>\n",
       "      <td>0.671332</td>\n",
       "      <td>0.151754</td>\n",
       "      <td>-0.009983</td>\n",
       "      <td>0.054798</td>\n",
       "      <td>0.867838</td>\n",
       "    </tr>\n",
       "    <tr>\n",
       "      <th>2</th>\n",
       "      <td>0.726801</td>\n",
       "      <td>0.191840</td>\n",
       "      <td>0.108153</td>\n",
       "      <td>0.446817</td>\n",
       "      <td>0.853339</td>\n",
       "    </tr>\n",
       "    <tr>\n",
       "      <th>3</th>\n",
       "      <td>0.721877</td>\n",
       "      <td>0.173228</td>\n",
       "      <td>0.196339</td>\n",
       "      <td>0.434172</td>\n",
       "      <td>0.865886</td>\n",
       "    </tr>\n",
       "    <tr>\n",
       "      <th>4</th>\n",
       "      <td>0.672628</td>\n",
       "      <td>0.109520</td>\n",
       "      <td>-0.001664</td>\n",
       "      <td>0.054939</td>\n",
       "      <td>0.860449</td>\n",
       "    </tr>\n",
       "    <tr>\n",
       "      <th>...</th>\n",
       "      <td>...</td>\n",
       "      <td>...</td>\n",
       "      <td>...</td>\n",
       "      <td>...</td>\n",
       "      <td>...</td>\n",
       "    </tr>\n",
       "    <tr>\n",
       "      <th>581007</th>\n",
       "      <td>0.621047</td>\n",
       "      <td>0.060845</td>\n",
       "      <td>0.028286</td>\n",
       "      <td>0.015175</td>\n",
       "      <td>0.116688</td>\n",
       "    </tr>\n",
       "    <tr>\n",
       "      <th>581008</th>\n",
       "      <td>0.619751</td>\n",
       "      <td>0.047960</td>\n",
       "      <td>0.019967</td>\n",
       "      <td>0.013348</td>\n",
       "      <td>0.117803</td>\n",
       "    </tr>\n",
       "    <tr>\n",
       "      <th>581009</th>\n",
       "      <td>0.618455</td>\n",
       "      <td>0.042949</td>\n",
       "      <td>0.011647</td>\n",
       "      <td>0.012646</td>\n",
       "      <td>0.119058</td>\n",
       "    </tr>\n",
       "    <tr>\n",
       "      <th>581010</th>\n",
       "      <td>0.617937</td>\n",
       "      <td>0.042949</td>\n",
       "      <td>0.008319</td>\n",
       "      <td>0.012646</td>\n",
       "      <td>0.120452</td>\n",
       "    </tr>\n",
       "    <tr>\n",
       "      <th>581011</th>\n",
       "      <td>0.617678</td>\n",
       "      <td>0.042949</td>\n",
       "      <td>0.006656</td>\n",
       "      <td>0.009414</td>\n",
       "      <td>0.121985</td>\n",
       "    </tr>\n",
       "  </tbody>\n",
       "</table>\n",
       "<p>581012 rows × 5 columns</p>\n",
       "</div>"
      ],
      "text/plain": [
       "        Elevation  Horizontal_Distance_To_Hydrology  \\\n",
       "0        0.672888                          0.184681   \n",
       "1        0.671332                          0.151754   \n",
       "2        0.726801                          0.191840   \n",
       "3        0.721877                          0.173228   \n",
       "4        0.672628                          0.109520   \n",
       "...           ...                               ...   \n",
       "581007   0.621047                          0.060845   \n",
       "581008   0.619751                          0.047960   \n",
       "581009   0.618455                          0.042949   \n",
       "581010   0.617937                          0.042949   \n",
       "581011   0.617678                          0.042949   \n",
       "\n",
       "        Vertical_Distance_To_Hydrology  Horizontal_Distance_To_Roadways  \\\n",
       "0                             0.000000                         0.071659   \n",
       "1                            -0.009983                         0.054798   \n",
       "2                             0.108153                         0.446817   \n",
       "3                             0.196339                         0.434172   \n",
       "4                            -0.001664                         0.054939   \n",
       "...                                ...                              ...   \n",
       "581007                        0.028286                         0.015175   \n",
       "581008                        0.019967                         0.013348   \n",
       "581009                        0.011647                         0.012646   \n",
       "581010                        0.008319                         0.012646   \n",
       "581011                        0.006656                         0.009414   \n",
       "\n",
       "        Horizontal_Distance_To_Fire_Points  \n",
       "0                                 0.875366  \n",
       "1                                 0.867838  \n",
       "2                                 0.853339  \n",
       "3                                 0.865886  \n",
       "4                                 0.860449  \n",
       "...                                    ...  \n",
       "581007                            0.116688  \n",
       "581008                            0.117803  \n",
       "581009                            0.119058  \n",
       "581010                            0.120452  \n",
       "581011                            0.121985  \n",
       "\n",
       "[581012 rows x 5 columns]"
      ]
     },
     "execution_count": 403,
     "metadata": {},
     "output_type": "execute_result"
    }
   ],
   "source": [
    "norm = base_df_tree2.loc[0:,['Elevation','Horizontal_Distance_To_Hydrology','Vertical_Distance_To_Hydrology','Horizontal_Distance_To_Roadways','Horizontal_Distance_To_Fire_Points']]\n",
    "p=MaxAbsScaler()\n",
    "p.fit(norm)\n",
    "MaxAbsScaler(copy=True)\n",
    "norm = p.transform(norm)\n",
    "norm = pd.DataFrame(norm, columns=['Elevation','Horizontal_Distance_To_Hydrology','Vertical_Distance_To_Hydrology','Horizontal_Distance_To_Roadways','Horizontal_Distance_To_Fire_Points'])\n",
    "norm"
   ]
  },
  {
   "cell_type": "code",
   "execution_count": 404,
   "metadata": {},
   "outputs": [],
   "source": [
    "base_df_tree2_2[['Elevation','Horizontal_Distance_To_Hydrology','Vertical_Distance_To_Hydrology','Horizontal_Distance_To_Roadways','Horizontal_Distance_To_Fire_Points']] = norm[['Elevation','Horizontal_Distance_To_Hydrology','Vertical_Distance_To_Hydrology','Horizontal_Distance_To_Roadways','Horizontal_Distance_To_Fire_Points']]"
   ]
  },
  {
   "cell_type": "code",
   "execution_count": 405,
   "metadata": {},
   "outputs": [
    {
     "data": {
      "text/html": [
       "<div>\n",
       "<style scoped>\n",
       "    .dataframe tbody tr th:only-of-type {\n",
       "        vertical-align: middle;\n",
       "    }\n",
       "\n",
       "    .dataframe tbody tr th {\n",
       "        vertical-align: top;\n",
       "    }\n",
       "\n",
       "    .dataframe thead th {\n",
       "        text-align: right;\n",
       "    }\n",
       "</style>\n",
       "<table border=\"1\" class=\"dataframe\">\n",
       "  <thead>\n",
       "    <tr style=\"text-align: right;\">\n",
       "      <th></th>\n",
       "      <th>Elevation</th>\n",
       "      <th>Aspect</th>\n",
       "      <th>Slope</th>\n",
       "      <th>Horizontal_Distance_To_Hydrology</th>\n",
       "      <th>Vertical_Distance_To_Hydrology</th>\n",
       "      <th>Horizontal_Distance_To_Roadways</th>\n",
       "      <th>Hillshade_9am</th>\n",
       "      <th>Hillshade_Noon</th>\n",
       "      <th>Hillshade_3pm</th>\n",
       "      <th>Horizontal_Distance_To_Fire_Points</th>\n",
       "      <th>Wilderness_Area_1</th>\n",
       "      <th>Wilderness_Area_2</th>\n",
       "      <th>Wilderness_Area_3</th>\n",
       "      <th>Wilderness_Area_4</th>\n",
       "      <th>Soil_Type</th>\n",
       "      <th>Cover_Type</th>\n",
       "    </tr>\n",
       "  </thead>\n",
       "  <tbody>\n",
       "    <tr>\n",
       "      <th>0</th>\n",
       "      <td>0.672888</td>\n",
       "      <td>51</td>\n",
       "      <td>3</td>\n",
       "      <td>0.184681</td>\n",
       "      <td>0.000000</td>\n",
       "      <td>0.071659</td>\n",
       "      <td>221</td>\n",
       "      <td>232</td>\n",
       "      <td>148</td>\n",
       "      <td>0.875366</td>\n",
       "      <td>1</td>\n",
       "      <td>0</td>\n",
       "      <td>0</td>\n",
       "      <td>0</td>\n",
       "      <td>29</td>\n",
       "      <td>5</td>\n",
       "    </tr>\n",
       "    <tr>\n",
       "      <th>1</th>\n",
       "      <td>0.671332</td>\n",
       "      <td>56</td>\n",
       "      <td>2</td>\n",
       "      <td>0.151754</td>\n",
       "      <td>-0.009983</td>\n",
       "      <td>0.054798</td>\n",
       "      <td>220</td>\n",
       "      <td>235</td>\n",
       "      <td>151</td>\n",
       "      <td>0.867838</td>\n",
       "      <td>1</td>\n",
       "      <td>0</td>\n",
       "      <td>0</td>\n",
       "      <td>0</td>\n",
       "      <td>29</td>\n",
       "      <td>5</td>\n",
       "    </tr>\n",
       "    <tr>\n",
       "      <th>2</th>\n",
       "      <td>0.726801</td>\n",
       "      <td>139</td>\n",
       "      <td>9</td>\n",
       "      <td>0.191840</td>\n",
       "      <td>0.108153</td>\n",
       "      <td>0.446817</td>\n",
       "      <td>234</td>\n",
       "      <td>238</td>\n",
       "      <td>135</td>\n",
       "      <td>0.853339</td>\n",
       "      <td>1</td>\n",
       "      <td>0</td>\n",
       "      <td>0</td>\n",
       "      <td>0</td>\n",
       "      <td>12</td>\n",
       "      <td>2</td>\n",
       "    </tr>\n",
       "    <tr>\n",
       "      <th>3</th>\n",
       "      <td>0.721877</td>\n",
       "      <td>155</td>\n",
       "      <td>18</td>\n",
       "      <td>0.173228</td>\n",
       "      <td>0.196339</td>\n",
       "      <td>0.434172</td>\n",
       "      <td>238</td>\n",
       "      <td>238</td>\n",
       "      <td>122</td>\n",
       "      <td>0.865886</td>\n",
       "      <td>1</td>\n",
       "      <td>0</td>\n",
       "      <td>0</td>\n",
       "      <td>0</td>\n",
       "      <td>30</td>\n",
       "      <td>2</td>\n",
       "    </tr>\n",
       "    <tr>\n",
       "      <th>4</th>\n",
       "      <td>0.672628</td>\n",
       "      <td>45</td>\n",
       "      <td>2</td>\n",
       "      <td>0.109520</td>\n",
       "      <td>-0.001664</td>\n",
       "      <td>0.054939</td>\n",
       "      <td>220</td>\n",
       "      <td>234</td>\n",
       "      <td>150</td>\n",
       "      <td>0.860449</td>\n",
       "      <td>1</td>\n",
       "      <td>0</td>\n",
       "      <td>0</td>\n",
       "      <td>0</td>\n",
       "      <td>29</td>\n",
       "      <td>5</td>\n",
       "    </tr>\n",
       "    <tr>\n",
       "      <th>...</th>\n",
       "      <td>...</td>\n",
       "      <td>...</td>\n",
       "      <td>...</td>\n",
       "      <td>...</td>\n",
       "      <td>...</td>\n",
       "      <td>...</td>\n",
       "      <td>...</td>\n",
       "      <td>...</td>\n",
       "      <td>...</td>\n",
       "      <td>...</td>\n",
       "      <td>...</td>\n",
       "      <td>...</td>\n",
       "      <td>...</td>\n",
       "      <td>...</td>\n",
       "      <td>...</td>\n",
       "      <td>...</td>\n",
       "    </tr>\n",
       "    <tr>\n",
       "      <th>581007</th>\n",
       "      <td>0.621047</td>\n",
       "      <td>153</td>\n",
       "      <td>20</td>\n",
       "      <td>0.060845</td>\n",
       "      <td>0.028286</td>\n",
       "      <td>0.015175</td>\n",
       "      <td>240</td>\n",
       "      <td>237</td>\n",
       "      <td>118</td>\n",
       "      <td>0.116688</td>\n",
       "      <td>0</td>\n",
       "      <td>0</td>\n",
       "      <td>1</td>\n",
       "      <td>0</td>\n",
       "      <td>2</td>\n",
       "      <td>3</td>\n",
       "    </tr>\n",
       "    <tr>\n",
       "      <th>581008</th>\n",
       "      <td>0.619751</td>\n",
       "      <td>152</td>\n",
       "      <td>19</td>\n",
       "      <td>0.047960</td>\n",
       "      <td>0.019967</td>\n",
       "      <td>0.013348</td>\n",
       "      <td>240</td>\n",
       "      <td>237</td>\n",
       "      <td>119</td>\n",
       "      <td>0.117803</td>\n",
       "      <td>0</td>\n",
       "      <td>0</td>\n",
       "      <td>1</td>\n",
       "      <td>0</td>\n",
       "      <td>2</td>\n",
       "      <td>3</td>\n",
       "    </tr>\n",
       "    <tr>\n",
       "      <th>581009</th>\n",
       "      <td>0.618455</td>\n",
       "      <td>159</td>\n",
       "      <td>17</td>\n",
       "      <td>0.042949</td>\n",
       "      <td>0.011647</td>\n",
       "      <td>0.012646</td>\n",
       "      <td>236</td>\n",
       "      <td>241</td>\n",
       "      <td>130</td>\n",
       "      <td>0.119058</td>\n",
       "      <td>0</td>\n",
       "      <td>0</td>\n",
       "      <td>1</td>\n",
       "      <td>0</td>\n",
       "      <td>2</td>\n",
       "      <td>3</td>\n",
       "    </tr>\n",
       "    <tr>\n",
       "      <th>581010</th>\n",
       "      <td>0.617937</td>\n",
       "      <td>170</td>\n",
       "      <td>15</td>\n",
       "      <td>0.042949</td>\n",
       "      <td>0.008319</td>\n",
       "      <td>0.012646</td>\n",
       "      <td>230</td>\n",
       "      <td>245</td>\n",
       "      <td>143</td>\n",
       "      <td>0.120452</td>\n",
       "      <td>0</td>\n",
       "      <td>0</td>\n",
       "      <td>1</td>\n",
       "      <td>0</td>\n",
       "      <td>2</td>\n",
       "      <td>3</td>\n",
       "    </tr>\n",
       "    <tr>\n",
       "      <th>581011</th>\n",
       "      <td>0.617678</td>\n",
       "      <td>165</td>\n",
       "      <td>13</td>\n",
       "      <td>0.042949</td>\n",
       "      <td>0.006656</td>\n",
       "      <td>0.009414</td>\n",
       "      <td>231</td>\n",
       "      <td>244</td>\n",
       "      <td>141</td>\n",
       "      <td>0.121985</td>\n",
       "      <td>0</td>\n",
       "      <td>0</td>\n",
       "      <td>1</td>\n",
       "      <td>0</td>\n",
       "      <td>2</td>\n",
       "      <td>3</td>\n",
       "    </tr>\n",
       "  </tbody>\n",
       "</table>\n",
       "<p>581012 rows × 16 columns</p>\n",
       "</div>"
      ],
      "text/plain": [
       "        Elevation  Aspect  Slope  Horizontal_Distance_To_Hydrology  \\\n",
       "0        0.672888      51      3                          0.184681   \n",
       "1        0.671332      56      2                          0.151754   \n",
       "2        0.726801     139      9                          0.191840   \n",
       "3        0.721877     155     18                          0.173228   \n",
       "4        0.672628      45      2                          0.109520   \n",
       "...           ...     ...    ...                               ...   \n",
       "581007   0.621047     153     20                          0.060845   \n",
       "581008   0.619751     152     19                          0.047960   \n",
       "581009   0.618455     159     17                          0.042949   \n",
       "581010   0.617937     170     15                          0.042949   \n",
       "581011   0.617678     165     13                          0.042949   \n",
       "\n",
       "        Vertical_Distance_To_Hydrology  Horizontal_Distance_To_Roadways  \\\n",
       "0                             0.000000                         0.071659   \n",
       "1                            -0.009983                         0.054798   \n",
       "2                             0.108153                         0.446817   \n",
       "3                             0.196339                         0.434172   \n",
       "4                            -0.001664                         0.054939   \n",
       "...                                ...                              ...   \n",
       "581007                        0.028286                         0.015175   \n",
       "581008                        0.019967                         0.013348   \n",
       "581009                        0.011647                         0.012646   \n",
       "581010                        0.008319                         0.012646   \n",
       "581011                        0.006656                         0.009414   \n",
       "\n",
       "        Hillshade_9am  Hillshade_Noon  Hillshade_3pm  \\\n",
       "0                 221             232            148   \n",
       "1                 220             235            151   \n",
       "2                 234             238            135   \n",
       "3                 238             238            122   \n",
       "4                 220             234            150   \n",
       "...               ...             ...            ...   \n",
       "581007            240             237            118   \n",
       "581008            240             237            119   \n",
       "581009            236             241            130   \n",
       "581010            230             245            143   \n",
       "581011            231             244            141   \n",
       "\n",
       "        Horizontal_Distance_To_Fire_Points  Wilderness_Area_1  \\\n",
       "0                                 0.875366                  1   \n",
       "1                                 0.867838                  1   \n",
       "2                                 0.853339                  1   \n",
       "3                                 0.865886                  1   \n",
       "4                                 0.860449                  1   \n",
       "...                                    ...                ...   \n",
       "581007                            0.116688                  0   \n",
       "581008                            0.117803                  0   \n",
       "581009                            0.119058                  0   \n",
       "581010                            0.120452                  0   \n",
       "581011                            0.121985                  0   \n",
       "\n",
       "        Wilderness_Area_2  Wilderness_Area_3  Wilderness_Area_4  Soil_Type  \\\n",
       "0                       0                  0                  0         29   \n",
       "1                       0                  0                  0         29   \n",
       "2                       0                  0                  0         12   \n",
       "3                       0                  0                  0         30   \n",
       "4                       0                  0                  0         29   \n",
       "...                   ...                ...                ...        ...   \n",
       "581007                  0                  1                  0          2   \n",
       "581008                  0                  1                  0          2   \n",
       "581009                  0                  1                  0          2   \n",
       "581010                  0                  1                  0          2   \n",
       "581011                  0                  1                  0          2   \n",
       "\n",
       "        Cover_Type  \n",
       "0                5  \n",
       "1                5  \n",
       "2                2  \n",
       "3                2  \n",
       "4                5  \n",
       "...            ...  \n",
       "581007           3  \n",
       "581008           3  \n",
       "581009           3  \n",
       "581010           3  \n",
       "581011           3  \n",
       "\n",
       "[581012 rows x 16 columns]"
      ]
     },
     "execution_count": 405,
     "metadata": {},
     "output_type": "execute_result"
    }
   ],
   "source": [
    "base_df_tree2_2"
   ]
  },
  {
   "cell_type": "code",
   "execution_count": 406,
   "metadata": {},
   "outputs": [
    {
     "name": "stdout",
     "output_type": "stream",
     "text": [
      "0.593794420042\n",
      "8.871583461761475\n"
     ]
    }
   ],
   "source": [
    "t1 = time.time()\n",
    "model = tree.DecisionTreeClassifier(random_state=0)\n",
    "X = base_df_tree2_2.iloc[0:,0:15]\n",
    "y = base_df_tree2_2.iloc[0:,15]\n",
    "print(cross_val_score(model, X, y, cv=10,n_jobs=-2).mean())\n",
    "t2 = time.time()\n",
    "print(t2-t1)"
   ]
  },
  {
   "cell_type": "code",
   "execution_count": 407,
   "metadata": {},
   "outputs": [
    {
     "name": "stdout",
     "output_type": "stream",
     "text": [
      "0.593797862028\n",
      "8.967090368270874\n"
     ]
    }
   ],
   "source": [
    "#O melhor resultado final foi:\n",
    "base_df_tree2_2 = pd.DataFrame.copy(base_df_tree2)\n",
    "base_df_tree2_2 = pd.concat([base_df_tree2, Wilderness_Area_Bruto, Soil_Type, Cover_Type], axis=1)\n",
    "t1 = time.time()\n",
    "model = tree.DecisionTreeClassifier(random_state=0)\n",
    "X = base_df_tree2_2.iloc[0:,0:15]\n",
    "y = base_df_tree2_2.iloc[0:,15]\n",
    "print(cross_val_score(model, X, y, cv=10,n_jobs=-2).mean())\n",
    "t2 = time.time()\n",
    "print(t2-t1)"
   ]
  },
  {
   "cell_type": "markdown",
   "metadata": {},
   "source": [
    "#### 3.8) **(10%)** Tunning - Agora que temos um resultado promissor, vamos tentar melhorar o resultado alterando um ou mais hiper-parametro. Compare os resultados."
   ]
  },
  {
   "cell_type": "code",
   "execution_count": 408,
   "metadata": {},
   "outputs": [],
   "source": [
    "base_df_tree_f = pd.DataFrame.copy(base_df_tree2)\n",
    "base_df_tree_f = pd.concat([base_df_tree2, Wilderness_Area_Bruto, Soil_Type, Cover_Type], axis=1)"
   ]
  },
  {
   "cell_type": "code",
   "execution_count": 409,
   "metadata": {},
   "outputs": [
    {
     "name": "stdout",
     "output_type": "stream",
     "text": [
      "0.593797862028\n",
      "8.520536422729492\n"
     ]
    }
   ],
   "source": [
    "t1 = time.time()\n",
    "model = tree.DecisionTreeClassifier(random_state=0,criterion='gini',splitter='best')\n",
    "X = base_df_tree_f.iloc[0:,0:15]\n",
    "y = base_df_tree_f.iloc[0:,15]\n",
    "print(cross_val_score(model, X, y, cv=10,n_jobs=-2).mean())\n",
    "t2 = time.time()\n",
    "print(t2-t1)"
   ]
  },
  {
   "cell_type": "code",
   "execution_count": 410,
   "metadata": {},
   "outputs": [
    {
     "name": "stdout",
     "output_type": "stream",
     "text": [
      "0.580663942949\n",
      "3.359203577041626\n"
     ]
    }
   ],
   "source": [
    "t1 = time.time()\n",
    "model = tree.DecisionTreeClassifier(random_state=0,criterion='gini',splitter='random')\n",
    "X = base_df_tree_f.iloc[0:,0:15]\n",
    "y = base_df_tree_f.iloc[0:,15]\n",
    "print(cross_val_score(model, X, y, cv=10,n_jobs=-2).mean())\n",
    "t2 = time.time()\n",
    "print(t2-t1)"
   ]
  },
  {
   "cell_type": "code",
   "execution_count": 411,
   "metadata": {},
   "outputs": [
    {
     "name": "stdout",
     "output_type": "stream",
     "text": [
      "0.596802822412\n",
      "8.831647872924805\n"
     ]
    }
   ],
   "source": [
    "t1 = time.time()\n",
    "model = tree.DecisionTreeClassifier(random_state=0,criterion='entropy',splitter='best')\n",
    "X = base_df_tree_f.iloc[0:,0:15]\n",
    "y = base_df_tree_f.iloc[0:,15]\n",
    "print(cross_val_score(model, X, y, cv=10,n_jobs=-2).mean())\n",
    "t2 = time.time()\n",
    "print(t2-t1)"
   ]
  },
  {
   "cell_type": "code",
   "execution_count": 412,
   "metadata": {},
   "outputs": [
    {
     "name": "stdout",
     "output_type": "stream",
     "text": [
      "0.589660174438\n",
      "3.235978364944458\n"
     ]
    }
   ],
   "source": [
    "t1 = time.time()\n",
    "model = tree.DecisionTreeClassifier(random_state=0,criterion='entropy',splitter='random')\n",
    "X = base_df_tree_f.iloc[0:,0:15]\n",
    "y = base_df_tree_f.iloc[0:,15]\n",
    "print(cross_val_score(model, X, y, cv=10,n_jobs=-2).mean())\n",
    "t2 = time.time()\n",
    "print(t2-t1)"
   ]
  },
  {
   "cell_type": "markdown",
   "metadata": {},
   "source": [
    "Os parametro criterion='entropy',splitter='best' se sariram melhor, vamos fazer mais algumas alterações partindo deles"
   ]
  },
  {
   "cell_type": "code",
   "execution_count": 413,
   "metadata": {},
   "outputs": [
    {
     "name": "stdout",
     "output_type": "stream",
     "text": [
      "0.597606586475\n",
      "8.858641624450684\n"
     ]
    }
   ],
   "source": [
    "t1 = time.time()\n",
    "model = tree.DecisionTreeClassifier(random_state=0,criterion='entropy',splitter='best',min_samples_split=3)\n",
    "X = base_df_tree_f.iloc[0:,0:15]\n",
    "y = base_df_tree_f.iloc[0:,15]\n",
    "print(cross_val_score(model, X, y, cv=10,n_jobs=-2).mean())\n",
    "t2 = time.time()\n",
    "print(t2-t1)"
   ]
  },
  {
   "cell_type": "code",
   "execution_count": 414,
   "metadata": {},
   "outputs": [
    {
     "name": "stdout",
     "output_type": "stream",
     "text": [
      "0.594873375024\n",
      "8.828983545303345\n"
     ]
    }
   ],
   "source": [
    "t1 = time.time()\n",
    "model = tree.DecisionTreeClassifier(random_state=0,criterion='entropy',splitter='best',min_samples_split=4)\n",
    "X = base_df_tree_f.iloc[0:,0:15]\n",
    "y = base_df_tree_f.iloc[0:,15]\n",
    "print(cross_val_score(model, X, y, cv=10,n_jobs=-2).mean())\n",
    "t2 = time.time()\n",
    "print(t2-t1)"
   ]
  },
  {
   "cell_type": "markdown",
   "metadata": {},
   "source": [
    "melhor config ate o momento criterion='entropy',splitter='best',min_samples_split=3"
   ]
  },
  {
   "cell_type": "code",
   "execution_count": 415,
   "metadata": {},
   "outputs": [
    {
     "name": "stdout",
     "output_type": "stream",
     "text": [
      "0.59161007239\n",
      "8.829383611679077\n"
     ]
    }
   ],
   "source": [
    "t1 = time.time()\n",
    "model = tree.DecisionTreeClassifier(random_state=0,criterion='entropy',splitter='best',min_samples_split=3,min_samples_leaf=2)\n",
    "X = base_df_tree_f.iloc[0:,0:15]\n",
    "y = base_df_tree_f.iloc[0:,15]\n",
    "print(cross_val_score(model, X, y, cv=10,n_jobs=-2).mean())\n",
    "t2 = time.time()\n",
    "print(t2-t1)"
   ]
  },
  {
   "cell_type": "code",
   "execution_count": 416,
   "metadata": {},
   "outputs": [
    {
     "name": "stdout",
     "output_type": "stream",
     "text": [
      "0.59161007239\n",
      "8.807221412658691\n"
     ]
    }
   ],
   "source": [
    "t1 = time.time()\n",
    "model = tree.DecisionTreeClassifier(random_state=0,criterion='entropy',splitter='best',min_samples_split=2,min_samples_leaf=2)\n",
    "X = base_df_tree_f.iloc[0:,0:15]\n",
    "y = base_df_tree_f.iloc[0:,15]\n",
    "print(cross_val_score(model, X, y, cv=10,n_jobs=-2).mean())\n",
    "t2 = time.time()\n",
    "print(t2-t1)"
   ]
  },
  {
   "cell_type": "code",
   "execution_count": 417,
   "metadata": {},
   "outputs": [
    {
     "name": "stdout",
     "output_type": "stream",
     "text": [
      "0.583902705273\n",
      "8.858686208724976\n"
     ]
    }
   ],
   "source": [
    "t1 = time.time()\n",
    "model = tree.DecisionTreeClassifier(random_state=0,criterion='entropy',splitter='best',min_samples_split=3,min_samples_leaf=3)\n",
    "X = base_df_tree_f.iloc[0:,0:15]\n",
    "y = base_df_tree_f.iloc[0:,15]\n",
    "print(cross_val_score(model, X, y, cv=10,n_jobs=-2).mean())\n",
    "t2 = time.time()\n",
    "print(t2-t1)"
   ]
  },
  {
   "cell_type": "code",
   "execution_count": 418,
   "metadata": {},
   "outputs": [
    {
     "name": "stdout",
     "output_type": "stream",
     "text": [
      "0.579493105434\n",
      "8.883024215698242\n"
     ]
    }
   ],
   "source": [
    "t1 = time.time()\n",
    "model = tree.DecisionTreeClassifier(random_state=0,criterion='entropy',splitter='best',min_samples_split=3,min_samples_leaf=4)\n",
    "X = base_df_tree_f.iloc[0:,0:15]\n",
    "y = base_df_tree_f.iloc[0:,15]\n",
    "print(cross_val_score(model, X, y, cv=10,n_jobs=-2).mean())\n",
    "t2 = time.time()\n",
    "print(t2-t1)"
   ]
  },
  {
   "cell_type": "code",
   "execution_count": 419,
   "metadata": {},
   "outputs": [
    {
     "name": "stdout",
     "output_type": "stream",
     "text": [
      "0.487599223769\n",
      "1.1642365455627441\n"
     ]
    }
   ],
   "source": [
    "t1 = time.time()\n",
    "model = tree.DecisionTreeClassifier(random_state=0,criterion='entropy',splitter='best',min_samples_split=3,min_samples_leaf=0.5)\n",
    "X = base_df_tree_f.iloc[0:,0:15]\n",
    "y = base_df_tree_f.iloc[0:,15]\n",
    "print(cross_val_score(model, X, y, cv=10,n_jobs=-2).mean())\n",
    "t2 = time.time()\n",
    "print(t2-t1)"
   ]
  },
  {
   "cell_type": "code",
   "execution_count": 420,
   "metadata": {},
   "outputs": [
    {
     "name": "stdout",
     "output_type": "stream",
     "text": [
      "0.597606586475\n",
      "9.28481388092041\n"
     ]
    }
   ],
   "source": [
    "t1 = time.time()\n",
    "model = tree.DecisionTreeClassifier(random_state=0,criterion='entropy',splitter='best',min_samples_split=3,min_samples_leaf=1)\n",
    "X = base_df_tree_f.iloc[0:,0:15]\n",
    "y = base_df_tree_f.iloc[0:,15]\n",
    "print(cross_val_score(model, X, y, cv=10,n_jobs=-2).mean())\n",
    "t2 = time.time()\n",
    "print(t2-t1)"
   ]
  },
  {
   "cell_type": "markdown",
   "metadata": {},
   "source": [
    "melhor config ate o momento criterion='entropy',splitter='best',min_samples_split=3,min_samples_leaf=1"
   ]
  },
  {
   "cell_type": "code",
   "execution_count": 421,
   "metadata": {},
   "outputs": [
    {
     "name": "stdout",
     "output_type": "stream",
     "text": [
      "0.597606586475\n",
      "9.315679788589478\n"
     ]
    }
   ],
   "source": [
    "t1 = time.time()\n",
    "model = tree.DecisionTreeClassifier(random_state=0,criterion='entropy',splitter='best',min_samples_split=3,min_samples_leaf=1,max_depth=100)\n",
    "X = base_df_tree_f.iloc[0:,0:15]\n",
    "y = base_df_tree_f.iloc[0:,15]\n",
    "print(cross_val_score(model, X, y, cv=10,n_jobs=-2).mean())\n",
    "t2 = time.time()\n",
    "print(t2-t1)"
   ]
  },
  {
   "cell_type": "code",
   "execution_count": 422,
   "metadata": {},
   "outputs": [
    {
     "name": "stdout",
     "output_type": "stream",
     "text": [
      "0.597606586475\n",
      "9.432775020599365\n"
     ]
    }
   ],
   "source": [
    "t1 = time.time()\n",
    "model = tree.DecisionTreeClassifier(random_state=0,criterion='entropy',splitter='best',min_samples_split=3,min_samples_leaf=1,max_depth=50)\n",
    "X = base_df_tree_f.iloc[0:,0:15]\n",
    "y = base_df_tree_f.iloc[0:,15]\n",
    "print(cross_val_score(model, X, y, cv=10,n_jobs=-2).mean())\n",
    "t2 = time.time()\n",
    "print(t2-t1)"
   ]
  },
  {
   "cell_type": "code",
   "execution_count": 423,
   "metadata": {},
   "outputs": [
    {
     "name": "stdout",
     "output_type": "stream",
     "text": [
      "0.596823450182\n",
      "9.25381588935852\n"
     ]
    }
   ],
   "source": [
    "t1 = time.time()\n",
    "model = tree.DecisionTreeClassifier(random_state=0,criterion='entropy',splitter='best',min_samples_split=3,min_samples_leaf=1,max_depth=30)\n",
    "X = base_df_tree_f.iloc[0:,0:15]\n",
    "y = base_df_tree_f.iloc[0:,15]\n",
    "print(cross_val_score(model, X, y, cv=10,n_jobs=-2).mean())\n",
    "t2 = time.time()\n",
    "print(t2-t1)"
   ]
  },
  {
   "cell_type": "code",
   "execution_count": 424,
   "metadata": {},
   "outputs": [
    {
     "name": "stdout",
     "output_type": "stream",
     "text": [
      "0.597606586475\n",
      "8.930741786956787\n"
     ]
    }
   ],
   "source": [
    "t1 = time.time()\n",
    "model = tree.DecisionTreeClassifier(random_state=0,criterion='entropy',splitter='best',min_samples_split=3,min_samples_leaf=1,max_depth=None)\n",
    "X = base_df_tree_f.iloc[0:,0:15]\n",
    "y = base_df_tree_f.iloc[0:,15]\n",
    "print(cross_val_score(model, X, y, cv=10,n_jobs=-2).mean())\n",
    "t2 = time.time()\n",
    "print(t2-t1)"
   ]
  },
  {
   "cell_type": "markdown",
   "metadata": {},
   "source": [
    "melhor config ate o momento:\n",
    "criterion='entropy',splitter='best',min_samples_split=3,min_samples_leaf=1,max_depth=None"
   ]
  },
  {
   "cell_type": "code",
   "execution_count": 425,
   "metadata": {},
   "outputs": [
    {
     "name": "stdout",
     "output_type": "stream",
     "text": [
      "0.569612397049\n",
      "3.0676889419555664\n"
     ]
    }
   ],
   "source": [
    "t1 = time.time()\n",
    "model = tree.DecisionTreeClassifier(random_state=0,criterion='entropy',splitter='best',min_samples_split=3,min_samples_leaf=1,max_depth=None,max_features='auto')\n",
    "X = base_df_tree_f.iloc[0:,0:15]\n",
    "y = base_df_tree_f.iloc[0:,15]\n",
    "print(cross_val_score(model, X, y, cv=10,n_jobs=-2).mean())\n",
    "t2 = time.time()\n",
    "print(t2-t1)"
   ]
  },
  {
   "cell_type": "code",
   "execution_count": 426,
   "metadata": {},
   "outputs": [
    {
     "name": "stdout",
     "output_type": "stream",
     "text": [
      "0.569612397049\n",
      "3.173055648803711\n"
     ]
    }
   ],
   "source": [
    "t1 = time.time()\n",
    "model = tree.DecisionTreeClassifier(random_state=0,criterion='entropy',splitter='best',min_samples_split=3,min_samples_leaf=1,max_depth=None,max_features='sqrt')\n",
    "X = base_df_tree_f.iloc[0:,0:15]\n",
    "y = base_df_tree_f.iloc[0:,15]\n",
    "print(cross_val_score(model, X, y, cv=10,n_jobs=-2).mean())\n",
    "t2 = time.time()\n",
    "print(t2-t1)"
   ]
  },
  {
   "cell_type": "code",
   "execution_count": 427,
   "metadata": {},
   "outputs": [
    {
     "name": "stdout",
     "output_type": "stream",
     "text": [
      "0.569612397049\n",
      "3.2300777435302734\n"
     ]
    }
   ],
   "source": [
    "t1 = time.time()\n",
    "model = tree.DecisionTreeClassifier(random_state=0,criterion='entropy',splitter='best',min_samples_split=3,min_samples_leaf=1,max_depth=None,max_features='log2')\n",
    "X = base_df_tree_f.iloc[0:,0:15]\n",
    "y = base_df_tree_f.iloc[0:,15]\n",
    "print(cross_val_score(model, X, y, cv=10,n_jobs=-2).mean())\n",
    "t2 = time.time()\n",
    "print(t2-t1)"
   ]
  },
  {
   "cell_type": "code",
   "execution_count": 428,
   "metadata": {},
   "outputs": [
    {
     "name": "stdout",
     "output_type": "stream",
     "text": [
      "0.597606586475\n",
      "9.926758289337158\n"
     ]
    }
   ],
   "source": [
    "t1 = time.time()\n",
    "model = tree.DecisionTreeClassifier(random_state=0,criterion='entropy',splitter='best',min_samples_split=3,min_samples_leaf=1,max_depth=None,max_features=None)\n",
    "X = base_df_tree_f.iloc[0:,0:15]\n",
    "y = base_df_tree_f.iloc[0:,15]\n",
    "print(cross_val_score(model, X, y, cv=10,n_jobs=-2).mean())\n",
    "t2 = time.time()\n",
    "print(t2-t1)"
   ]
  },
  {
   "cell_type": "markdown",
   "metadata": {},
   "source": [
    "melhor config ate o momento:\n",
    "criterion='entropy',splitter='best',min_samples_split=3,min_samples_leaf=1,max_depth=None,max_features=None"
   ]
  },
  {
   "cell_type": "markdown",
   "metadata": {},
   "source": [
    "melhor config ate o momento:\n",
    "criterion='entropy',min_samples_split=3"
   ]
  },
  {
   "cell_type": "code",
   "execution_count": 429,
   "metadata": {},
   "outputs": [
    {
     "name": "stdout",
     "output_type": "stream",
     "text": [
      "0.596802822412\n",
      "9.177619934082031\n"
     ]
    }
   ],
   "source": [
    "t1 = time.time()\n",
    "model = tree.DecisionTreeClassifier(random_state=0,criterion='entropy',min_samples_split=2)\n",
    "X = base_df_tree_f.iloc[0:,0:15]\n",
    "y = base_df_tree_f.iloc[0:,15]\n",
    "print(cross_val_score(model, X, y, cv=10,n_jobs=-2).mean())\n",
    "t2 = time.time()\n",
    "print(t2-t1)"
   ]
  },
  {
   "cell_type": "code",
   "execution_count": 430,
   "metadata": {},
   "outputs": [
    {
     "name": "stdout",
     "output_type": "stream",
     "text": [
      "0.597606586475\n",
      "9.804231882095337\n"
     ]
    }
   ],
   "source": [
    "t1 = time.time()\n",
    "model = tree.DecisionTreeClassifier(random_state=0,criterion='entropy',min_samples_split=3)\n",
    "X = base_df_tree_f.iloc[0:,0:15]\n",
    "y = base_df_tree_f.iloc[0:,15]\n",
    "print(cross_val_score(model, X, y, cv=10,n_jobs=-2).mean())\n",
    "t2 = time.time()\n",
    "print(t2-t1)"
   ]
  },
  {
   "cell_type": "code",
   "execution_count": 431,
   "metadata": {},
   "outputs": [
    {
     "name": "stdout",
     "output_type": "stream",
     "text": [
      "0.595721925301\n",
      "9.606388330459595\n"
     ]
    }
   ],
   "source": [
    "t1 = time.time()\n",
    "model = tree.DecisionTreeClassifier(random_state=1,criterion='entropy',min_samples_split=3)\n",
    "X = base_df_tree_f.iloc[0:,0:15]\n",
    "y = base_df_tree_f.iloc[0:,15]\n",
    "print(cross_val_score(model, X, y, cv=10,n_jobs=-2).mean())\n",
    "t2 = time.time()\n",
    "print(t2-t1)"
   ]
  },
  {
   "cell_type": "code",
   "execution_count": 432,
   "metadata": {},
   "outputs": [
    {
     "name": "stdout",
     "output_type": "stream",
     "text": [
      "0.596498159879\n",
      "9.278300046920776\n"
     ]
    }
   ],
   "source": [
    "t1 = time.time()\n",
    "model = tree.DecisionTreeClassifier(random_state=2,criterion='entropy',min_samples_split=3)\n",
    "X = base_df_tree_f.iloc[0:,0:15]\n",
    "y = base_df_tree_f.iloc[0:,15]\n",
    "print(cross_val_score(model, X, y, cv=10,n_jobs=-2).mean())\n",
    "t2 = time.time()\n",
    "print(t2-t1)"
   ]
  },
  {
   "cell_type": "code",
   "execution_count": 433,
   "metadata": {},
   "outputs": [
    {
     "name": "stdout",
     "output_type": "stream",
     "text": [
      "0.596339828376\n",
      "9.158053159713745\n"
     ]
    }
   ],
   "source": [
    "t1 = time.time()\n",
    "model = tree.DecisionTreeClassifier(random_state=3,criterion='entropy',min_samples_split=3)\n",
    "X = base_df_tree_f.iloc[0:,0:15]\n",
    "y = base_df_tree_f.iloc[0:,15]\n",
    "print(cross_val_score(model, X, y, cv=10,n_jobs=-2).mean())\n",
    "t2 = time.time()\n",
    "print(t2-t1)"
   ]
  },
  {
   "cell_type": "code",
   "execution_count": 434,
   "metadata": {},
   "outputs": [
    {
     "name": "stdout",
     "output_type": "stream",
     "text": [
      "0.596618599208\n",
      "9.073559999465942\n"
     ]
    }
   ],
   "source": [
    "t1 = time.time()\n",
    "model = tree.DecisionTreeClassifier(random_state=4,criterion='entropy',min_samples_split=3)\n",
    "X = base_df_tree_f.iloc[0:,0:15]\n",
    "y = base_df_tree_f.iloc[0:,15]\n",
    "print(cross_val_score(model, X, y, cv=10,n_jobs=-2).mean())\n",
    "t2 = time.time()\n",
    "print(t2-t1)"
   ]
  },
  {
   "cell_type": "code",
   "execution_count": 435,
   "metadata": {},
   "outputs": [
    {
     "name": "stdout",
     "output_type": "stream",
     "text": [
      "0.597544608699\n",
      "9.53110408782959\n"
     ]
    }
   ],
   "source": [
    "t1 = time.time()\n",
    "model = tree.DecisionTreeClassifier(random_state=5,criterion='entropy',min_samples_split=3)\n",
    "X = base_df_tree_f.iloc[0:,0:15]\n",
    "y = base_df_tree_f.iloc[0:,15]\n",
    "print(cross_val_score(model, X, y, cv=10,n_jobs=-2).mean())\n",
    "t2 = time.time()\n",
    "print(t2-t1)"
   ]
  },
  {
   "cell_type": "code",
   "execution_count": 436,
   "metadata": {},
   "outputs": [
    {
     "name": "stdout",
     "output_type": "stream",
     "text": [
      "0.59779077742\n",
      "9.20990777015686\n"
     ]
    }
   ],
   "source": [
    "t1 = time.time()\n",
    "model = tree.DecisionTreeClassifier(random_state=1,criterion='entropy',min_samples_split=2)\n",
    "X = base_df_tree_f.iloc[0:,0:15]\n",
    "y = base_df_tree_f.iloc[0:,15]\n",
    "print(cross_val_score(model, X, y, cv=10,n_jobs=-2).mean())\n",
    "t2 = time.time()\n",
    "print(t2-t1)"
   ]
  },
  {
   "cell_type": "code",
   "execution_count": 437,
   "metadata": {},
   "outputs": [
    {
     "name": "stdout",
     "output_type": "stream",
     "text": [
      "0.597530840166\n",
      "10.41986870765686\n"
     ]
    }
   ],
   "source": [
    "t1 = time.time()\n",
    "model = tree.DecisionTreeClassifier(random_state=2,criterion='entropy',min_samples_split=2)\n",
    "X = base_df_tree_f.iloc[0:,0:15]\n",
    "y = base_df_tree_f.iloc[0:,15]\n",
    "print(cross_val_score(model, X, y, cv=10,n_jobs=-2).mean())\n",
    "t2 = time.time()\n",
    "print(t2-t1)"
   ]
  },
  {
   "cell_type": "code",
   "execution_count": 438,
   "metadata": {},
   "outputs": [
    {
     "name": "stdout",
     "output_type": "stream",
     "text": [
      "0.597832023005\n",
      "9.804798603057861\n"
     ]
    }
   ],
   "source": [
    "t1 = time.time()\n",
    "model = tree.DecisionTreeClassifier(random_state=3,criterion='entropy',min_samples_split=2)\n",
    "X = base_df_tree_f.iloc[0:,0:15]\n",
    "y = base_df_tree_f.iloc[0:,15]\n",
    "print(cross_val_score(model, X, y, cv=10,n_jobs=-2).mean())\n",
    "t2 = time.time()\n",
    "print(t2-t1)"
   ]
  },
  {
   "cell_type": "code",
   "execution_count": 439,
   "metadata": {},
   "outputs": [
    {
     "name": "stdout",
     "output_type": "stream",
     "text": [
      "0.596754585474\n",
      "9.658229112625122\n"
     ]
    }
   ],
   "source": [
    "t1 = time.time()\n",
    "model = tree.DecisionTreeClassifier(random_state=4,criterion='entropy',min_samples_split=2)\n",
    "X = base_df_tree_f.iloc[0:,0:15]\n",
    "y = base_df_tree_f.iloc[0:,15]\n",
    "print(cross_val_score(model, X, y, cv=10,n_jobs=-2).mean())\n",
    "t2 = time.time()\n",
    "print(t2-t1)"
   ]
  },
  {
   "cell_type": "code",
   "execution_count": 440,
   "metadata": {},
   "outputs": [
    {
     "name": "stdout",
     "output_type": "stream",
     "text": [
      "0.596470680074\n",
      "9.66217041015625\n"
     ]
    }
   ],
   "source": [
    "t1 = time.time()\n",
    "model = tree.DecisionTreeClassifier(random_state=5,criterion='entropy',min_samples_split=2)\n",
    "X = base_df_tree_f.iloc[0:,0:15]\n",
    "y = base_df_tree_f.iloc[0:,15]\n",
    "print(cross_val_score(model, X, y, cv=10,n_jobs=-2).mean())\n",
    "t2 = time.time()\n",
    "print(t2-t1)"
   ]
  },
  {
   "cell_type": "code",
   "execution_count": 441,
   "metadata": {},
   "outputs": [
    {
     "name": "stdout",
     "output_type": "stream",
     "text": [
      "0.597832023005\n",
      "9.272418975830078\n"
     ]
    }
   ],
   "source": [
    "t1 = time.time()\n",
    "model = tree.DecisionTreeClassifier(random_state=3,criterion='entropy')\n",
    "X = base_df_tree_f.iloc[0:,0:15]\n",
    "y = base_df_tree_f.iloc[0:,15]\n",
    "print(cross_val_score(model, X, y, cv=10,n_jobs=-2).mean())\n",
    "t2 = time.time()\n",
    "print(t2-t1)"
   ]
  },
  {
   "cell_type": "markdown",
   "metadata": {},
   "source": [
    "melhor config final:\n",
    "random_state=3,criterion='entropy'"
   ]
  },
  {
   "cell_type": "markdown",
   "metadata": {},
   "source": [
    "### 5) **(10%)** Conclusões"
   ]
  },
  {
   "cell_type": "markdown",
   "metadata": {},
   "source": [
    "*Compare seus resultados. Imaginando que sua solução fosse para produção, qual deles você escolheria? Por que? Quais os riscos você enxerga? O que recomendaria de próximos passos para melhorar os resultados?*"
   ]
  },
  {
   "cell_type": "markdown",
   "metadata": {},
   "source": [
    "Quanto aos dois algoritmos, o primeiro performou muito mal nas previsões e mesmo com um treino de 99% da base não passou dos 35% de acerto, já o segundo se saiu bem melhor. Em um cenário de produção o melhor resultado a ser aplicado, até o momento, seria os DecisionTreeClassifier com parâmetros: random_state=3,criterion='entropy'. Eu escolheria este modelo pois, ele foi o que apresentou a maior precisão em CV 59,78%, ainda é um valor que considero baixo para um ambiente de produção devido ao acerto ser pouco melhor que a escolha randômica. Os próximos passos para o aprimoramento dos resultados seria o teste de outros algoritmos, em busca de uma que melhor se adeque a situação."
   ]
  },
  {
   "cell_type": "markdown",
   "metadata": {},
   "source": []
  }
 ],
 "metadata": {
  "file_extension": ".py",
  "kernelspec": {
   "display_name": "Python 3",
   "language": "python",
   "name": "python3"
  },
  "language_info": {
   "codemirror_mode": {
    "name": "ipython",
    "version": 3
   },
   "file_extension": ".py",
   "mimetype": "text/x-python",
   "name": "python",
   "nbconvert_exporter": "python",
   "pygments_lexer": "ipython3",
   "version": "3.6.9"
  },
  "mimetype": "text/x-python",
  "name": "python",
  "npconvert_exporter": "python",
  "pygments_lexer": "ipython3",
  "version": 3
 },
 "nbformat": 4,
 "nbformat_minor": 2
}
